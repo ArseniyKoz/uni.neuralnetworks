{
  "nbformat": 4,
  "nbformat_minor": 0,
  "metadata": {
    "colab": {
      "provenance": [],
      "gpuType": "T4",
      "authorship_tag": "ABX9TyOuCNF2qfoGSUY0rvpa/dvr",
      "include_colab_link": true
    },
    "kernelspec": {
      "name": "python3",
      "display_name": "Python 3"
    },
    "language_info": {
      "name": "python"
    },
    "accelerator": "GPU",
    "widgets": {
      "application/vnd.jupyter.widget-state+json": {
        "341246a5a42046a4a32592130f4132d3": {
          "model_module": "@jupyter-widgets/controls",
          "model_name": "HBoxModel",
          "model_module_version": "1.5.0",
          "state": {
            "_dom_classes": [],
            "_model_module": "@jupyter-widgets/controls",
            "_model_module_version": "1.5.0",
            "_model_name": "HBoxModel",
            "_view_count": null,
            "_view_module": "@jupyter-widgets/controls",
            "_view_module_version": "1.5.0",
            "_view_name": "HBoxView",
            "box_style": "",
            "children": [
              "IPY_MODEL_08b9e92e035e47a29740e2e2f665cd74",
              "IPY_MODEL_3d2c4a0d26b445e5bd2f54797129f8a2",
              "IPY_MODEL_ba4df76cf411469abfe9a718f77229e5"
            ],
            "layout": "IPY_MODEL_c797db3567e142c0b69f4b710d88a719"
          }
        },
        "08b9e92e035e47a29740e2e2f665cd74": {
          "model_module": "@jupyter-widgets/controls",
          "model_name": "HTMLModel",
          "model_module_version": "1.5.0",
          "state": {
            "_dom_classes": [],
            "_model_module": "@jupyter-widgets/controls",
            "_model_module_version": "1.5.0",
            "_model_name": "HTMLModel",
            "_view_count": null,
            "_view_module": "@jupyter-widgets/controls",
            "_view_module_version": "1.5.0",
            "_view_name": "HTMLView",
            "description": "",
            "description_tooltip": null,
            "layout": "IPY_MODEL_f8ff790f5d764c949461be4b743537c9",
            "placeholder": "​",
            "style": "IPY_MODEL_dd15a8fddec244b898ae928da9336511",
            "value": "100%"
          }
        },
        "3d2c4a0d26b445e5bd2f54797129f8a2": {
          "model_module": "@jupyter-widgets/controls",
          "model_name": "FloatProgressModel",
          "model_module_version": "1.5.0",
          "state": {
            "_dom_classes": [],
            "_model_module": "@jupyter-widgets/controls",
            "_model_module_version": "1.5.0",
            "_model_name": "FloatProgressModel",
            "_view_count": null,
            "_view_module": "@jupyter-widgets/controls",
            "_view_module_version": "1.5.0",
            "_view_name": "ProgressView",
            "bar_style": "success",
            "description": "",
            "description_tooltip": null,
            "layout": "IPY_MODEL_00c0eac64ef24a0487d623ad4911ab95",
            "max": 100,
            "min": 0,
            "orientation": "horizontal",
            "style": "IPY_MODEL_c707ba9c73be47738dbd896c178ee70a",
            "value": 100
          }
        },
        "ba4df76cf411469abfe9a718f77229e5": {
          "model_module": "@jupyter-widgets/controls",
          "model_name": "HTMLModel",
          "model_module_version": "1.5.0",
          "state": {
            "_dom_classes": [],
            "_model_module": "@jupyter-widgets/controls",
            "_model_module_version": "1.5.0",
            "_model_name": "HTMLModel",
            "_view_count": null,
            "_view_module": "@jupyter-widgets/controls",
            "_view_module_version": "1.5.0",
            "_view_name": "HTMLView",
            "description": "",
            "description_tooltip": null,
            "layout": "IPY_MODEL_4060a6f0034a421280a3829ad55923f2",
            "placeholder": "​",
            "style": "IPY_MODEL_b885d4ddfa1344c1b099922becc6b49d",
            "value": " 100/100 [00:03&lt;00:00, 28.79it/s]"
          }
        },
        "c797db3567e142c0b69f4b710d88a719": {
          "model_module": "@jupyter-widgets/base",
          "model_name": "LayoutModel",
          "model_module_version": "1.2.0",
          "state": {
            "_model_module": "@jupyter-widgets/base",
            "_model_module_version": "1.2.0",
            "_model_name": "LayoutModel",
            "_view_count": null,
            "_view_module": "@jupyter-widgets/base",
            "_view_module_version": "1.2.0",
            "_view_name": "LayoutView",
            "align_content": null,
            "align_items": null,
            "align_self": null,
            "border": null,
            "bottom": null,
            "display": null,
            "flex": null,
            "flex_flow": null,
            "grid_area": null,
            "grid_auto_columns": null,
            "grid_auto_flow": null,
            "grid_auto_rows": null,
            "grid_column": null,
            "grid_gap": null,
            "grid_row": null,
            "grid_template_areas": null,
            "grid_template_columns": null,
            "grid_template_rows": null,
            "height": null,
            "justify_content": null,
            "justify_items": null,
            "left": null,
            "margin": null,
            "max_height": null,
            "max_width": null,
            "min_height": null,
            "min_width": null,
            "object_fit": null,
            "object_position": null,
            "order": null,
            "overflow": null,
            "overflow_x": null,
            "overflow_y": null,
            "padding": null,
            "right": null,
            "top": null,
            "visibility": null,
            "width": null
          }
        },
        "f8ff790f5d764c949461be4b743537c9": {
          "model_module": "@jupyter-widgets/base",
          "model_name": "LayoutModel",
          "model_module_version": "1.2.0",
          "state": {
            "_model_module": "@jupyter-widgets/base",
            "_model_module_version": "1.2.0",
            "_model_name": "LayoutModel",
            "_view_count": null,
            "_view_module": "@jupyter-widgets/base",
            "_view_module_version": "1.2.0",
            "_view_name": "LayoutView",
            "align_content": null,
            "align_items": null,
            "align_self": null,
            "border": null,
            "bottom": null,
            "display": null,
            "flex": null,
            "flex_flow": null,
            "grid_area": null,
            "grid_auto_columns": null,
            "grid_auto_flow": null,
            "grid_auto_rows": null,
            "grid_column": null,
            "grid_gap": null,
            "grid_row": null,
            "grid_template_areas": null,
            "grid_template_columns": null,
            "grid_template_rows": null,
            "height": null,
            "justify_content": null,
            "justify_items": null,
            "left": null,
            "margin": null,
            "max_height": null,
            "max_width": null,
            "min_height": null,
            "min_width": null,
            "object_fit": null,
            "object_position": null,
            "order": null,
            "overflow": null,
            "overflow_x": null,
            "overflow_y": null,
            "padding": null,
            "right": null,
            "top": null,
            "visibility": null,
            "width": null
          }
        },
        "dd15a8fddec244b898ae928da9336511": {
          "model_module": "@jupyter-widgets/controls",
          "model_name": "DescriptionStyleModel",
          "model_module_version": "1.5.0",
          "state": {
            "_model_module": "@jupyter-widgets/controls",
            "_model_module_version": "1.5.0",
            "_model_name": "DescriptionStyleModel",
            "_view_count": null,
            "_view_module": "@jupyter-widgets/base",
            "_view_module_version": "1.2.0",
            "_view_name": "StyleView",
            "description_width": ""
          }
        },
        "00c0eac64ef24a0487d623ad4911ab95": {
          "model_module": "@jupyter-widgets/base",
          "model_name": "LayoutModel",
          "model_module_version": "1.2.0",
          "state": {
            "_model_module": "@jupyter-widgets/base",
            "_model_module_version": "1.2.0",
            "_model_name": "LayoutModel",
            "_view_count": null,
            "_view_module": "@jupyter-widgets/base",
            "_view_module_version": "1.2.0",
            "_view_name": "LayoutView",
            "align_content": null,
            "align_items": null,
            "align_self": null,
            "border": null,
            "bottom": null,
            "display": null,
            "flex": null,
            "flex_flow": null,
            "grid_area": null,
            "grid_auto_columns": null,
            "grid_auto_flow": null,
            "grid_auto_rows": null,
            "grid_column": null,
            "grid_gap": null,
            "grid_row": null,
            "grid_template_areas": null,
            "grid_template_columns": null,
            "grid_template_rows": null,
            "height": null,
            "justify_content": null,
            "justify_items": null,
            "left": null,
            "margin": null,
            "max_height": null,
            "max_width": null,
            "min_height": null,
            "min_width": null,
            "object_fit": null,
            "object_position": null,
            "order": null,
            "overflow": null,
            "overflow_x": null,
            "overflow_y": null,
            "padding": null,
            "right": null,
            "top": null,
            "visibility": null,
            "width": null
          }
        },
        "c707ba9c73be47738dbd896c178ee70a": {
          "model_module": "@jupyter-widgets/controls",
          "model_name": "ProgressStyleModel",
          "model_module_version": "1.5.0",
          "state": {
            "_model_module": "@jupyter-widgets/controls",
            "_model_module_version": "1.5.0",
            "_model_name": "ProgressStyleModel",
            "_view_count": null,
            "_view_module": "@jupyter-widgets/base",
            "_view_module_version": "1.2.0",
            "_view_name": "StyleView",
            "bar_color": null,
            "description_width": ""
          }
        },
        "4060a6f0034a421280a3829ad55923f2": {
          "model_module": "@jupyter-widgets/base",
          "model_name": "LayoutModel",
          "model_module_version": "1.2.0",
          "state": {
            "_model_module": "@jupyter-widgets/base",
            "_model_module_version": "1.2.0",
            "_model_name": "LayoutModel",
            "_view_count": null,
            "_view_module": "@jupyter-widgets/base",
            "_view_module_version": "1.2.0",
            "_view_name": "LayoutView",
            "align_content": null,
            "align_items": null,
            "align_self": null,
            "border": null,
            "bottom": null,
            "display": null,
            "flex": null,
            "flex_flow": null,
            "grid_area": null,
            "grid_auto_columns": null,
            "grid_auto_flow": null,
            "grid_auto_rows": null,
            "grid_column": null,
            "grid_gap": null,
            "grid_row": null,
            "grid_template_areas": null,
            "grid_template_columns": null,
            "grid_template_rows": null,
            "height": null,
            "justify_content": null,
            "justify_items": null,
            "left": null,
            "margin": null,
            "max_height": null,
            "max_width": null,
            "min_height": null,
            "min_width": null,
            "object_fit": null,
            "object_position": null,
            "order": null,
            "overflow": null,
            "overflow_x": null,
            "overflow_y": null,
            "padding": null,
            "right": null,
            "top": null,
            "visibility": null,
            "width": null
          }
        },
        "b885d4ddfa1344c1b099922becc6b49d": {
          "model_module": "@jupyter-widgets/controls",
          "model_name": "DescriptionStyleModel",
          "model_module_version": "1.5.0",
          "state": {
            "_model_module": "@jupyter-widgets/controls",
            "_model_module_version": "1.5.0",
            "_model_name": "DescriptionStyleModel",
            "_view_count": null,
            "_view_module": "@jupyter-widgets/base",
            "_view_module_version": "1.2.0",
            "_view_name": "StyleView",
            "description_width": ""
          }
        }
      }
    }
  },
  "cells": [
    {
      "cell_type": "markdown",
      "metadata": {
        "id": "view-in-github",
        "colab_type": "text"
      },
      "source": [
        "<a href=\"https://colab.research.google.com/github/ArseniyKoz/uni.neuralnetworks/blob/main/nn_practice_1.ipynb\" target=\"_parent\"><img src=\"https://colab.research.google.com/assets/colab-badge.svg\" alt=\"Open In Colab\"/></a>"
      ]
    },
    {
      "cell_type": "code",
      "execution_count": 1,
      "metadata": {
        "colab": {
          "base_uri": "https://localhost:8080/"
        },
        "id": "q2qf9ikmkf0E",
        "outputId": "cdcf1016-c356-4c45-8fe3-6cab3f3940a0"
      },
      "outputs": [
        {
          "output_type": "stream",
          "name": "stderr",
          "text": [
            "<ipython-input-1-5b602ad12930>:10: DeprecationWarning: `set_matplotlib_formats` is deprecated since IPython 7.23, directly use `matplotlib_inline.backend_inline.set_matplotlib_formats()`\n",
            "  set_matplotlib_formats('svg', 'pdf') # For export\n"
          ]
        }
      ],
      "source": [
        "import os\n",
        "import math\n",
        "import numpy as np\n",
        "import time\n",
        "\n",
        "## Imports for plotting\n",
        "import matplotlib.pyplot as plt\n",
        "%matplotlib inline\n",
        "from IPython.display import set_matplotlib_formats\n",
        "set_matplotlib_formats('svg', 'pdf') # For export\n",
        "from matplotlib.colors import to_rgba\n",
        "import seaborn as sns\n",
        "sns.set()\n",
        "\n",
        "## Progress bar\n",
        "from tqdm.notebook import tqdm"
      ]
    },
    {
      "cell_type": "code",
      "source": [
        "import torch\n",
        "print(\"Using torch\", torch.__version__)"
      ],
      "metadata": {
        "colab": {
          "base_uri": "https://localhost:8080/"
        },
        "id": "1rOcmWUcksZH",
        "outputId": "db4c58d7-aa79-4809-bf51-56c67bf073e3"
      },
      "execution_count": 2,
      "outputs": [
        {
          "output_type": "stream",
          "name": "stdout",
          "text": [
            "Using torch 2.5.1+cu124\n"
          ]
        }
      ]
    },
    {
      "cell_type": "code",
      "source": [
        "torch.manual_seed(42) # Setting the seed"
      ],
      "metadata": {
        "colab": {
          "base_uri": "https://localhost:8080/"
        },
        "id": "Oz6wgwBGk1WI",
        "outputId": "b69e5864-5497-459e-bdbc-676945a9e30f"
      },
      "execution_count": 3,
      "outputs": [
        {
          "output_type": "execute_result",
          "data": {
            "text/plain": [
              "<torch._C.Generator at 0x7f3add342ef0>"
            ]
          },
          "metadata": {},
          "execution_count": 3
        }
      ]
    },
    {
      "cell_type": "markdown",
      "source": [
        "Tensors"
      ],
      "metadata": {
        "id": "CeJtBHj3mHSJ"
      }
    },
    {
      "cell_type": "code",
      "source": [
        "x = torch.Tensor(2, 3, 4)\n",
        "print(x)"
      ],
      "metadata": {
        "colab": {
          "base_uri": "https://localhost:8080/"
        },
        "id": "kYyjM796k1hb",
        "outputId": "aa92ebd7-7b03-40a4-c30f-d2158e3a94fa"
      },
      "execution_count": 4,
      "outputs": [
        {
          "output_type": "stream",
          "name": "stdout",
          "text": [
            "tensor([[[2.8334e-08, 4.5642e-41, 2.8334e-08, 4.5642e-41],\n",
            "         [2.5640e-33, 0.0000e+00, 2.5640e-33, 0.0000e+00],\n",
            "         [1.4013e-45, 0.0000e+00, 2.5640e-33, 0.0000e+00]],\n",
            "\n",
            "        [[2.5641e-33, 0.0000e+00, 1.4013e-45, 0.0000e+00],\n",
            "         [2.5640e-33, 0.0000e+00, 2.5640e-33, 0.0000e+00],\n",
            "         [3.3631e-44, 3.0981e+32, 1.3871e-38, 0.0000e+00]]])\n"
          ]
        }
      ]
    },
    {
      "cell_type": "code",
      "source": [
        "x = torch.zeros(2, 3, 4)\n",
        "print(x)"
      ],
      "metadata": {
        "colab": {
          "base_uri": "https://localhost:8080/"
        },
        "id": "Jhmdbn8Zk1ko",
        "outputId": "856a2c70-3af4-403f-e83a-cc27a16cea3a"
      },
      "execution_count": 5,
      "outputs": [
        {
          "output_type": "stream",
          "name": "stdout",
          "text": [
            "tensor([[[0., 0., 0., 0.],\n",
            "         [0., 0., 0., 0.],\n",
            "         [0., 0., 0., 0.]],\n",
            "\n",
            "        [[0., 0., 0., 0.],\n",
            "         [0., 0., 0., 0.],\n",
            "         [0., 0., 0., 0.]]])\n"
          ]
        }
      ]
    },
    {
      "cell_type": "code",
      "source": [
        "x = torch.Tensor([[1, 2], [3, 4]])\n",
        "print(x)"
      ],
      "metadata": {
        "colab": {
          "base_uri": "https://localhost:8080/"
        },
        "id": "hejtGp3KlsyJ",
        "outputId": "42986bea-f89c-4c06-d63e-cec8644f9eef"
      },
      "execution_count": 6,
      "outputs": [
        {
          "output_type": "stream",
          "name": "stdout",
          "text": [
            "tensor([[1., 2.],\n",
            "        [3., 4.]])\n"
          ]
        }
      ]
    },
    {
      "cell_type": "code",
      "source": [
        "x = torch.rand(2, 3, 4)\n",
        "print(x)"
      ],
      "metadata": {
        "colab": {
          "base_uri": "https://localhost:8080/"
        },
        "id": "6TvGW2r-l--g",
        "outputId": "71e961e3-b2bf-4dcf-d5f0-10e4a4ca478d"
      },
      "execution_count": 7,
      "outputs": [
        {
          "output_type": "stream",
          "name": "stdout",
          "text": [
            "tensor([[[0.8823, 0.9150, 0.3829, 0.9593],\n",
            "         [0.3904, 0.6009, 0.2566, 0.7936],\n",
            "         [0.9408, 0.1332, 0.9346, 0.5936]],\n",
            "\n",
            "        [[0.8694, 0.5677, 0.7411, 0.4294],\n",
            "         [0.8854, 0.5739, 0.2666, 0.6274],\n",
            "         [0.2696, 0.4414, 0.2969, 0.8317]]])\n"
          ]
        }
      ]
    },
    {
      "cell_type": "code",
      "source": [
        "shape = x.shape\n",
        "print(\"Shape:\", x.shape)\n",
        "size = x.size()\n",
        "print(\"Size:\", size)\n",
        "dim1, dim2, dim3 = x.size()\n",
        "print(\"Size:\", dim1, dim2, dim3)"
      ],
      "metadata": {
        "colab": {
          "base_uri": "https://localhost:8080/"
        },
        "id": "80pEiqCxls0L",
        "outputId": "2dd16452-829a-4a93-ba23-2fcc9578160d"
      },
      "execution_count": 8,
      "outputs": [
        {
          "output_type": "stream",
          "name": "stdout",
          "text": [
            "Shape: torch.Size([2, 3, 4])\n",
            "Size: torch.Size([2, 3, 4])\n",
            "Size: 2 3 4\n"
          ]
        }
      ]
    },
    {
      "cell_type": "markdown",
      "source": [
        "Tensor to Numpy, and Numpy to Tensor"
      ],
      "metadata": {
        "id": "JRMLfiiymFKV"
      }
    },
    {
      "cell_type": "code",
      "source": [
        "np_arr = np.array([[1, 2], [3, 4]])\n",
        "tensor = torch.from_numpy(np_arr)\n",
        "\n",
        "print(\"Numpy array:\", np_arr)\n",
        "print(\"PyTorch tensor:\", tensor)"
      ],
      "metadata": {
        "colab": {
          "base_uri": "https://localhost:8080/"
        },
        "id": "Cb__3cw4ltah",
        "outputId": "3709b8de-f79d-40fc-8a4b-de453aac41d9"
      },
      "execution_count": 9,
      "outputs": [
        {
          "output_type": "stream",
          "name": "stdout",
          "text": [
            "Numpy array: [[1 2]\n",
            " [3 4]]\n",
            "PyTorch tensor: tensor([[1, 2],\n",
            "        [3, 4]])\n"
          ]
        }
      ]
    },
    {
      "cell_type": "code",
      "source": [
        "tensor = torch.arange(4)\n",
        "np_arr = tensor.numpy()\n",
        "print(\"PyTorch tensor:\", tensor)\n",
        "print(\"Numpy array:\", np_arr)"
      ],
      "metadata": {
        "colab": {
          "base_uri": "https://localhost:8080/"
        },
        "id": "3n6BsNfplted",
        "outputId": "122d1f55-4fe1-48e0-9aec-97340eaf52fc"
      },
      "execution_count": 10,
      "outputs": [
        {
          "output_type": "stream",
          "name": "stdout",
          "text": [
            "PyTorch tensor: tensor([0, 1, 2, 3])\n",
            "Numpy array: [0 1 2 3]\n"
          ]
        }
      ]
    },
    {
      "cell_type": "markdown",
      "source": [
        "Операции с тензорами"
      ],
      "metadata": {
        "id": "b89ssb2Gmdba"
      }
    },
    {
      "cell_type": "code",
      "source": [
        "x1 = torch.rand(2, 3)\n",
        "x2 = torch.rand(2, 3)\n",
        "y = x1 + x2\n",
        "print(\"X1\", x1)\n",
        "print(\"X2\", x2)\n",
        "print(\"Y\", y)"
      ],
      "metadata": {
        "colab": {
          "base_uri": "https://localhost:8080/"
        },
        "id": "RD5xRARnlthO",
        "outputId": "709088e6-88b2-4e27-9295-c90dc5d0ae81"
      },
      "execution_count": 11,
      "outputs": [
        {
          "output_type": "stream",
          "name": "stdout",
          "text": [
            "X1 tensor([[0.1053, 0.2695, 0.3588],\n",
            "        [0.1994, 0.5472, 0.0062]])\n",
            "X2 tensor([[0.9516, 0.0753, 0.8860],\n",
            "        [0.5832, 0.3376, 0.8090]])\n",
            "Y tensor([[1.0569, 0.3448, 1.2448],\n",
            "        [0.7826, 0.8848, 0.8151]])\n"
          ]
        }
      ]
    },
    {
      "cell_type": "code",
      "source": [
        "x1 = torch.rand(2, 3)\n",
        "x2 = torch.rand(2, 3)\n",
        "\n",
        "print(\"X1 (before)\", x1)\n",
        "print(\"X2 (before)\", x2)\n",
        "x2.add_(x1)\n",
        "print(\"X1 (after)\", x1)\n",
        "print(\"X2 (after)\", x2)"
      ],
      "metadata": {
        "colab": {
          "base_uri": "https://localhost:8080/"
        },
        "id": "2aS9dNHKm60V",
        "outputId": "d8ca7244-e420-44c8-caf9-93cfa59882bd"
      },
      "execution_count": 12,
      "outputs": [
        {
          "output_type": "stream",
          "name": "stdout",
          "text": [
            "X1 (before) tensor([[0.5779, 0.9040, 0.5547],\n",
            "        [0.3423, 0.6343, 0.3644]])\n",
            "X2 (before) tensor([[0.7104, 0.9464, 0.7890],\n",
            "        [0.2814, 0.7886, 0.5895]])\n",
            "X1 (after) tensor([[0.5779, 0.9040, 0.5547],\n",
            "        [0.3423, 0.6343, 0.3644]])\n",
            "X2 (after) tensor([[1.2884, 1.8504, 1.3437],\n",
            "        [0.6237, 1.4230, 0.9539]])\n"
          ]
        }
      ]
    },
    {
      "cell_type": "code",
      "source": [
        "x = torch.arange(6)\n",
        "print(\"X\", x)\n",
        "\n",
        "x = x.view(2, 3)\n",
        "print(\"X\", x)\n",
        "\n",
        "x = x.permute(1, 0) # Swapping dimension 0 and 1\n",
        "print(\"X\", x)"
      ],
      "metadata": {
        "colab": {
          "base_uri": "https://localhost:8080/"
        },
        "id": "CxGZzt1rnMNJ",
        "outputId": "1da2581e-ad8c-4447-8a87-e57bfff1d8c1"
      },
      "execution_count": 13,
      "outputs": [
        {
          "output_type": "stream",
          "name": "stdout",
          "text": [
            "X tensor([0, 1, 2, 3, 4, 5])\n",
            "X tensor([[0, 1, 2],\n",
            "        [3, 4, 5]])\n",
            "X tensor([[0, 3],\n",
            "        [1, 4],\n",
            "        [2, 5]])\n"
          ]
        }
      ]
    },
    {
      "cell_type": "code",
      "source": [
        "x = torch.arange(6)\n",
        "x = x.view(2, 3)\n",
        "print(\"X\", x)"
      ],
      "metadata": {
        "colab": {
          "base_uri": "https://localhost:8080/"
        },
        "id": "3Gsu0d0hno7C",
        "outputId": "5612ca4c-71ce-4b2a-edff-7e1632bb7dc4"
      },
      "execution_count": 14,
      "outputs": [
        {
          "output_type": "stream",
          "name": "stdout",
          "text": [
            "X tensor([[0, 1, 2],\n",
            "        [3, 4, 5]])\n"
          ]
        }
      ]
    },
    {
      "cell_type": "code",
      "source": [
        "W = torch.arange(9).view(3, 3) # We can also stack multiple operations in a single line\n",
        "print(\"W\", W)"
      ],
      "metadata": {
        "colab": {
          "base_uri": "https://localhost:8080/"
        },
        "id": "S_MCAq2enrDl",
        "outputId": "7edfd061-2ec1-4222-e7f6-5256979adad9"
      },
      "execution_count": 15,
      "outputs": [
        {
          "output_type": "stream",
          "name": "stdout",
          "text": [
            "W tensor([[0, 1, 2],\n",
            "        [3, 4, 5],\n",
            "        [6, 7, 8]])\n"
          ]
        }
      ]
    },
    {
      "cell_type": "code",
      "source": [
        "h = torch.matmul(x, W)\n",
        "print(\"h\", h)"
      ],
      "metadata": {
        "colab": {
          "base_uri": "https://localhost:8080/"
        },
        "id": "S8qWKrLCnytf",
        "outputId": "0c7358eb-4c1f-4773-d640-f19cb43f0d56"
      },
      "execution_count": 16,
      "outputs": [
        {
          "output_type": "stream",
          "name": "stdout",
          "text": [
            "h tensor([[15, 18, 21],\n",
            "        [42, 54, 66]])\n"
          ]
        }
      ]
    },
    {
      "cell_type": "markdown",
      "source": [
        "Индексация"
      ],
      "metadata": {
        "id": "NIInZ6yln41X"
      }
    },
    {
      "cell_type": "code",
      "source": [
        "x = torch.arange(12).view(3, 4)\n",
        "print(\"X\", x)\n",
        "print(x[:, 1]) #второй столбец\n",
        "print(x[0]) # Первая строка\n",
        "print(x[:2, -1]) # Первые две строки, последний столбец\n",
        "print(x[1:3, :]) # две строки в середине"
      ],
      "metadata": {
        "colab": {
          "base_uri": "https://localhost:8080/"
        },
        "id": "vAoY9QWNn52a",
        "outputId": "b1b54853-ccdc-452e-ef4d-53a667b0a8de"
      },
      "execution_count": 17,
      "outputs": [
        {
          "output_type": "stream",
          "name": "stdout",
          "text": [
            "X tensor([[ 0,  1,  2,  3],\n",
            "        [ 4,  5,  6,  7],\n",
            "        [ 8,  9, 10, 11]])\n",
            "tensor([1, 5, 9])\n",
            "tensor([0, 1, 2, 3])\n",
            "tensor([3, 7])\n",
            "tensor([[ 4,  5,  6,  7],\n",
            "        [ 8,  9, 10, 11]])\n"
          ]
        }
      ]
    },
    {
      "cell_type": "markdown",
      "source": [
        "Динамический граф вычислений и обратное распространение"
      ],
      "metadata": {
        "id": "rX_xDgA1tjL2"
      }
    },
    {
      "cell_type": "code",
      "source": [
        "x = torch.ones((3,))\n",
        "print(x.requires_grad)"
      ],
      "metadata": {
        "colab": {
          "base_uri": "https://localhost:8080/"
        },
        "id": "kEQp07lVn6JV",
        "outputId": "a83fad0e-7449-40ff-d134-a6c4a6804f00"
      },
      "execution_count": 18,
      "outputs": [
        {
          "output_type": "stream",
          "name": "stdout",
          "text": [
            "False\n"
          ]
        }
      ]
    },
    {
      "cell_type": "code",
      "source": [
        "x.requires_grad_(True)\n",
        "print(x.requires_grad)"
      ],
      "metadata": {
        "colab": {
          "base_uri": "https://localhost:8080/"
        },
        "id": "uCQXtPjbn6M9",
        "outputId": "8e45ac55-8781-40cb-b23a-e064d3d2ca25"
      },
      "execution_count": 19,
      "outputs": [
        {
          "output_type": "stream",
          "name": "stdout",
          "text": [
            "True\n"
          ]
        }
      ]
    },
    {
      "cell_type": "markdown",
      "source": [
        "![image.png](data:image/png;base64,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)\n",
        "\n"
      ],
      "metadata": {
        "id": "JhADqYaYuCQw"
      }
    },
    {
      "cell_type": "code",
      "source": [
        "x = torch.arange(3, dtype=torch.float32, requires_grad=True) # Only float tensors can have gradients\n",
        "print(\"X\", x)"
      ],
      "metadata": {
        "colab": {
          "base_uri": "https://localhost:8080/"
        },
        "id": "vr50Thzen6QO",
        "outputId": "1033ba73-3f15-4214-bc74-b7f69561f81e"
      },
      "execution_count": 20,
      "outputs": [
        {
          "output_type": "stream",
          "name": "stdout",
          "text": [
            "X tensor([0., 1., 2.], requires_grad=True)\n"
          ]
        }
      ]
    },
    {
      "cell_type": "code",
      "source": [
        "a = x + 2\n",
        "b = a ** 2\n",
        "c = b + 3\n",
        "y = c.mean()\n",
        "print(\"Y\", y)"
      ],
      "metadata": {
        "colab": {
          "base_uri": "https://localhost:8080/"
        },
        "id": "nosUbyUPufOU",
        "outputId": "81035956-8d2a-4a9f-b1b0-536b26618940"
      },
      "execution_count": 21,
      "outputs": [
        {
          "output_type": "stream",
          "name": "stdout",
          "text": [
            "Y tensor(12.6667, grad_fn=<MeanBackward0>)\n"
          ]
        }
      ]
    },
    {
      "cell_type": "code",
      "source": [
        "y.backward()"
      ],
      "metadata": {
        "id": "JuzafgsXutdc"
      },
      "execution_count": 22,
      "outputs": []
    },
    {
      "cell_type": "code",
      "source": [
        "print(x.grad)"
      ],
      "metadata": {
        "colab": {
          "base_uri": "https://localhost:8080/"
        },
        "id": "dib646_nuwA3",
        "outputId": "6b8c2e95-6643-4d4f-e5b5-d01df87966bf"
      },
      "execution_count": 23,
      "outputs": [
        {
          "output_type": "stream",
          "name": "stdout",
          "text": [
            "tensor([1.3333, 2.0000, 2.6667])\n"
          ]
        }
      ]
    },
    {
      "cell_type": "markdown",
      "source": [
        "Поддержка GPU"
      ],
      "metadata": {
        "id": "igl9hKonvEVk"
      }
    },
    {
      "cell_type": "code",
      "source": [
        "gpu_avail = torch.cuda.is_available()\n",
        "print(f\"Is the GPU available? {gpu_avail}\")"
      ],
      "metadata": {
        "colab": {
          "base_uri": "https://localhost:8080/"
        },
        "id": "QqCQHwEbvE9e",
        "outputId": "b0f98497-a042-4d00-c7b8-0a0e0c8b41fc"
      },
      "execution_count": 24,
      "outputs": [
        {
          "output_type": "stream",
          "name": "stdout",
          "text": [
            "Is the GPU available? True\n"
          ]
        }
      ]
    },
    {
      "cell_type": "code",
      "source": [
        "device = torch.device(\"cuda\") if torch.cuda.is_available() else torch.device(\"cpu\")\n",
        "print(\"Device\", device)"
      ],
      "metadata": {
        "colab": {
          "base_uri": "https://localhost:8080/"
        },
        "id": "kL25pRf7vE_o",
        "outputId": "a224cf19-eb92-42de-bac7-c827155ec55a"
      },
      "execution_count": 25,
      "outputs": [
        {
          "output_type": "stream",
          "name": "stdout",
          "text": [
            "Device cuda\n"
          ]
        }
      ]
    },
    {
      "cell_type": "code",
      "source": [
        "x = torch.zeros(2, 3)\n",
        "x = x.to(device)\n",
        "print(\"X\", x)"
      ],
      "metadata": {
        "colab": {
          "base_uri": "https://localhost:8080/"
        },
        "id": "7pPMQttavFBs",
        "outputId": "77034ffe-973f-476e-b9dd-cb4c7a35618c"
      },
      "execution_count": 26,
      "outputs": [
        {
          "output_type": "stream",
          "name": "stdout",
          "text": [
            "X tensor([[0., 0., 0.],\n",
            "        [0., 0., 0.]], device='cuda:0')\n"
          ]
        }
      ]
    },
    {
      "cell_type": "code",
      "source": [
        "x = torch.randn(5000, 5000)\n",
        "## CPU version\n",
        "start_time = time.time()\n",
        "_ = torch.matmul(x, x)\n",
        "end_time = time.time()\n",
        "print(f\"CPU time: {(end_time - start_time):6.5f}s\")\n",
        "## GPU version\n",
        "x = x.to(device)\n",
        "_ = torch.matmul(x, x) # First operation to 'burn in' GPU\n",
        "# CUDA is asynchronous, so we need to use different timing functions\n",
        "start = torch.cuda.Event(enable_timing=True)\n",
        "end = torch.cuda.Event(enable_timing=True)\n",
        "start.record()\n",
        "_ = torch.matmul(x, x)\n",
        "end.record()\n",
        "torch.cuda.synchronize() # Waits for everything to finish running on the GPU\n",
        "print(f\"GPU time: {0.001 * start.elapsed_time(end):6.5f}s\") # Milliseconds to seconds"
      ],
      "metadata": {
        "colab": {
          "base_uri": "https://localhost:8080/"
        },
        "id": "1Z-zCqg7vFFI",
        "outputId": "7b616af6-1cfd-4384-a372-d2cb6d655eff"
      },
      "execution_count": 27,
      "outputs": [
        {
          "output_type": "stream",
          "name": "stdout",
          "text": [
            "CPU time: 8.18589s\n",
            "GPU time: 0.07022s\n"
          ]
        }
      ]
    },
    {
      "cell_type": "markdown",
      "source": [
        "Генерация случайных чисел"
      ],
      "metadata": {
        "id": "rESTeqt8wT1T"
      }
    },
    {
      "cell_type": "code",
      "source": [
        "# GPU operations have a separate seed we also want to set\n",
        "if torch.cuda.is_available():\n",
        "  torch.cuda.manual_seed(42)\n",
        "  torch.cuda.manual_seed_all(42)\n",
        "# Additionally, some operations on a GPU are implemented stochastic for efficiency\n",
        "# We want to ensure that all operations are deterministic on GPU (if used) for reproducibility\n",
        "torch.backends.cudnn.deterministic = True\n",
        "torch.backends.cudnn.benchmark = False"
      ],
      "metadata": {
        "id": "TkHNW16gvFHZ"
      },
      "execution_count": 28,
      "outputs": []
    },
    {
      "cell_type": "markdown",
      "source": [
        "Обучение сети. Непрерывный XOR"
      ],
      "metadata": {
        "id": "ySkK6gDywtVR"
      }
    },
    {
      "cell_type": "code",
      "source": [
        "import torch.nn as nn\n",
        "import torch.nn.functional as F"
      ],
      "metadata": {
        "id": "UbETZq1lvFLD"
      },
      "execution_count": 29,
      "outputs": []
    },
    {
      "cell_type": "code",
      "source": [
        "# Шаблон модуля\n",
        "class MyModule(nn.Module):\n",
        "  def __init__(self):\n",
        "    super().__init__()\n",
        "    # Some init for my module\n",
        "  def forward(self, x):\n",
        "    # Function for performing the calculation of the module.\n",
        "    pass"
      ],
      "metadata": {
        "id": "bffhSVlBvFOv"
      },
      "execution_count": 30,
      "outputs": []
    },
    {
      "cell_type": "code",
      "source": [
        "class SimpleClassifier(nn.Module):\n",
        "  def __init__(self, num_inputs, num_outputs):\n",
        "    super().__init__()\n",
        "# Initialize the modules we need to build the network\n",
        "    self.linear1 = nn.Linear(num_inputs, num_outputs)\n",
        "\n",
        "  def forward(self, x):\n",
        "# Perform the calculation of the model to determine the prediction\n",
        "    x = self.linear1(x)\n",
        "    return x"
      ],
      "metadata": {
        "id": "f_3cn88UvFRi"
      },
      "execution_count": 31,
      "outputs": []
    },
    {
      "cell_type": "code",
      "source": [
        "model = SimpleClassifier(num_inputs=2, num_outputs=1)\n",
        "# Printing a module shows all its submodules\n",
        "print(model)"
      ],
      "metadata": {
        "colab": {
          "base_uri": "https://localhost:8080/"
        },
        "id": "WnbboS8xyzpA",
        "outputId": "54a8f5d5-eb11-4aad-f7e9-cb92db3b0f4f"
      },
      "execution_count": 32,
      "outputs": [
        {
          "output_type": "stream",
          "name": "stdout",
          "text": [
            "SimpleClassifier(\n",
            "  (linear1): Linear(in_features=2, out_features=1, bias=True)\n",
            ")\n"
          ]
        }
      ]
    },
    {
      "cell_type": "code",
      "source": [
        "for name, param in model.named_parameters():\n",
        "  print(f\"Parameter {name}, shape {param.shape}\")"
      ],
      "metadata": {
        "colab": {
          "base_uri": "https://localhost:8080/"
        },
        "id": "H8HNU3UZy8yw",
        "outputId": "de9abd30-a22d-41e9-f05b-25402d5f03e6"
      },
      "execution_count": 33,
      "outputs": [
        {
          "output_type": "stream",
          "name": "stdout",
          "text": [
            "Parameter linear1.weight, shape torch.Size([1, 2])\n",
            "Parameter linear1.bias, shape torch.Size([1])\n"
          ]
        }
      ]
    },
    {
      "cell_type": "markdown",
      "source": [
        "Данные"
      ],
      "metadata": {
        "id": "1-BunapezAJ1"
      }
    },
    {
      "cell_type": "code",
      "source": [
        "import torch.utils.data as data"
      ],
      "metadata": {
        "id": "qYFeMHMEy9CY"
      },
      "execution_count": 34,
      "outputs": []
    },
    {
      "cell_type": "code",
      "source": [
        "class XORDataset(data.Dataset):\n",
        "  def __init__(self, size, std=0.1):\n",
        "    \"\"\"\n",
        "    Inputs:\n",
        "    size - Number of data points we want to generate\n",
        "    std - Standard deviation of the noise (see generate_continuous_xor function)\n",
        "\n",
        "    \"\"\"\n",
        "    super().__init__()\n",
        "    self.size = size\n",
        "    self.std = std\n",
        "    self.generate_continuous_xor()\n",
        "\n",
        "  def generate_continuous_xor(self):\n",
        "    # Each data point in the XOR dataset has two variables, x and y, that can be either 0 or 1\n",
        "    # The label is their XOR combination, i.e. 1 if only x or only y is 1 while the other is 0.\n",
        "    # If x=y, the label is 0.\n",
        "    data = torch.randint(low=0, high=2, size=(self.size, 2), dtype=torch.float32)\n",
        "    label = (data.sum(dim=1) == 1).to(torch.long)\n",
        "    # To make it slightly more challenging, we add a bit of gaussian noise to the data points.\n",
        "    data += self.std * torch.randn(data.shape)\n",
        "    self.data = data\n",
        "    self.label = label\n",
        "\n",
        "  def __len__(self):\n",
        "    # Number of data point we have. Alternatively self.data.shape[0], or self.label.shape[0]\n",
        "    return self.size\n",
        "\n",
        "  def __getitem__(self, idx):\n",
        "    # Return the idx-th data point of the dataset\n",
        "    # If we have multiple things to return (data point and label), we can return them as tuple\n",
        "    data_point = self.data[idx]\n",
        "    data_label = self.label[idx]\n",
        "    return data_point, data_label"
      ],
      "metadata": {
        "id": "Vb8A1n9vy9Em"
      },
      "execution_count": 35,
      "outputs": []
    },
    {
      "cell_type": "code",
      "source": [
        "dataset = XORDataset(size=200)\n",
        "print(\"Size of dataset:\", len(dataset))\n",
        "print(\"Data point 0:\", dataset[0])"
      ],
      "metadata": {
        "colab": {
          "base_uri": "https://localhost:8080/"
        },
        "id": "gE0teS2dy9Gq",
        "outputId": "085aa5bf-7223-49b2-a8ea-b1fd2aff328b"
      },
      "execution_count": 36,
      "outputs": [
        {
          "output_type": "stream",
          "name": "stdout",
          "text": [
            "Size of dataset: 200\n",
            "Data point 0: (tensor([1.0589, 0.9475]), tensor(0))\n"
          ]
        }
      ]
    },
    {
      "cell_type": "code",
      "source": [
        "def visualize_samples(data, label):\n",
        "  if isinstance(data, torch.Tensor):\n",
        "    data = data.cpu().numpy()\n",
        "  if isinstance(label, torch.Tensor):\n",
        "    label = label.cpu().numpy()\n",
        "    data_0 = data[label == 0]\n",
        "    data_1 = data[label == 1]\n",
        "\n",
        "  plt.figure(figsize=(4,4))\n",
        "  plt.scatter(data_0[:,0], data_0[:,1], edgecolor=\"#333\", label=\"Class 0\")\n",
        "  plt.scatter(data_1[:,0], data_1[:,1], edgecolor=\"#333\", label=\"Class 1\")\n",
        "  plt.title(\"Dataset samples\")\n",
        "  plt.ylabel(r\"$x_2$\")\n",
        "  plt.xlabel(r\"$x_1$\")"
      ],
      "metadata": {
        "id": "Qjit4lA-y9JG"
      },
      "execution_count": 37,
      "outputs": []
    },
    {
      "cell_type": "code",
      "source": [
        "visualize_samples(dataset.data, dataset.label)\n",
        "plt.show()"
      ],
      "metadata": {
        "colab": {
          "base_uri": "https://localhost:8080/",
          "height": 404
        },
        "id": "PFIkWvTRy9LJ",
        "outputId": "e97834a8-02ca-40ce-84e3-8be2b6f3bb24"
      },
      "execution_count": 38,
      "outputs": [
        {
          "output_type": "display_data",
          "data": {
            "text/plain": [
              "<Figure size 400x400 with 1 Axes>"
            ],
            "image/svg+xml": "<?xml version=\"1.0\" encoding=\"utf-8\" standalone=\"no\"?>\n<!DOCTYPE svg PUBLIC \"-//W3C//DTD SVG 1.1//EN\"\n  \"http://www.w3.org/Graphics/SVG/1.1/DTD/svg11.dtd\">\n<svg xmlns:xlink=\"http://www.w3.org/1999/xlink\" width=\"289.424844pt\" height=\"287.037813pt\" viewBox=\"0 0 289.424844 287.037813\" xmlns=\"http://www.w3.org/2000/svg\" version=\"1.1\">\n <metadata>\n  <rdf:RDF xmlns:dc=\"http://purl.org/dc/elements/1.1/\" xmlns:cc=\"http://creativecommons.org/ns#\" xmlns:rdf=\"http://www.w3.org/1999/02/22-rdf-syntax-ns#\">\n   <cc:Work>\n    <dc:type rdf:resource=\"http://purl.org/dc/dcmitype/StillImage\"/>\n    <dc:date>2025-02-21T15:38:02.003387</dc:date>\n    <dc:format>image/svg+xml</dc:format>\n    <dc:creator>\n     <cc:Agent>\n      <dc:title>Matplotlib v3.10.0, https://matplotlib.org/</dc:title>\n     </cc:Agent>\n    </dc:creator>\n   </cc:Work>\n  </rdf:RDF>\n </metadata>\n <defs>\n  <style type=\"text/css\">*{stroke-linejoin: round; stroke-linecap: butt}</style>\n </defs>\n <g id=\"figure_1\">\n  <g id=\"patch_1\">\n   <path d=\"M 0 287.037813 \nL 289.424844 287.037813 \nL 289.424844 0 \nL 0 0 \nz\n\" style=\"fill: #ffffff\"/>\n  </g>\n  <g id=\"axes_1\">\n   <g id=\"patch_2\">\n    <path d=\"M 59.024844 244.078125 \nL 282.224844 244.078125 \nL 282.224844 22.318125 \nL 59.024844 22.318125 \nz\n\" style=\"fill: #eaeaf2\"/>\n   </g>\n   <g id=\"matplotlib.axis_1\">\n    <g id=\"xtick_1\">\n     <g id=\"line2d_1\">\n      <path d=\"M 104.136211 244.078125 \nL 104.136211 22.318125 \n\" clip-path=\"url(#pf637281019)\" style=\"fill: none; stroke: #ffffff; stroke-linecap: round\"/>\n     </g>\n     <g id=\"text_1\">\n      <!-- 0.0 -->\n      <g style=\"fill: #262626\" transform=\"translate(95.389492 261.936406) scale(0.11 -0.11)\">\n       <defs>\n        <path id=\"DejaVuSans-30\" d=\"M 2034 4250 \nQ 1547 4250 1301 3770 \nQ 1056 3291 1056 2328 \nQ 1056 1369 1301 889 \nQ 1547 409 2034 409 \nQ 2525 409 2770 889 \nQ 3016 1369 3016 2328 \nQ 3016 3291 2770 3770 \nQ 2525 4250 2034 4250 \nz\nM 2034 4750 \nQ 2819 4750 3233 4129 \nQ 3647 3509 3647 2328 \nQ 3647 1150 3233 529 \nQ 2819 -91 2034 -91 \nQ 1250 -91 836 529 \nQ 422 1150 422 2328 \nQ 422 3509 836 4129 \nQ 1250 4750 2034 4750 \nz\n\" transform=\"scale(0.015625)\"/>\n        <path id=\"DejaVuSans-2e\" d=\"M 684 794 \nL 1344 794 \nL 1344 0 \nL 684 0 \nL 684 794 \nz\n\" transform=\"scale(0.015625)\"/>\n       </defs>\n       <use xlink:href=\"#DejaVuSans-30\"/>\n       <use xlink:href=\"#DejaVuSans-2e\" transform=\"translate(63.623047 0)\"/>\n       <use xlink:href=\"#DejaVuSans-30\" transform=\"translate(95.410156 0)\"/>\n      </g>\n     </g>\n    </g>\n    <g id=\"xtick_2\">\n     <g id=\"line2d_2\">\n      <path d=\"M 173.488267 244.078125 \nL 173.488267 22.318125 \n\" clip-path=\"url(#pf637281019)\" style=\"fill: none; stroke: #ffffff; stroke-linecap: round\"/>\n     </g>\n     <g id=\"text_2\">\n      <!-- 0.5 -->\n      <g style=\"fill: #262626\" transform=\"translate(164.741548 261.936406) scale(0.11 -0.11)\">\n       <defs>\n        <path id=\"DejaVuSans-35\" d=\"M 691 4666 \nL 3169 4666 \nL 3169 4134 \nL 1269 4134 \nL 1269 2991 \nQ 1406 3038 1543 3061 \nQ 1681 3084 1819 3084 \nQ 2600 3084 3056 2656 \nQ 3513 2228 3513 1497 \nQ 3513 744 3044 326 \nQ 2575 -91 1722 -91 \nQ 1428 -91 1123 -41 \nQ 819 9 494 109 \nL 494 744 \nQ 775 591 1075 516 \nQ 1375 441 1709 441 \nQ 2250 441 2565 725 \nQ 2881 1009 2881 1497 \nQ 2881 1984 2565 2268 \nQ 2250 2553 1709 2553 \nQ 1456 2553 1204 2497 \nQ 953 2441 691 2322 \nL 691 4666 \nz\n\" transform=\"scale(0.015625)\"/>\n       </defs>\n       <use xlink:href=\"#DejaVuSans-30\"/>\n       <use xlink:href=\"#DejaVuSans-2e\" transform=\"translate(63.623047 0)\"/>\n       <use xlink:href=\"#DejaVuSans-35\" transform=\"translate(95.410156 0)\"/>\n      </g>\n     </g>\n    </g>\n    <g id=\"xtick_3\">\n     <g id=\"line2d_3\">\n      <path d=\"M 242.840324 244.078125 \nL 242.840324 22.318125 \n\" clip-path=\"url(#pf637281019)\" style=\"fill: none; stroke: #ffffff; stroke-linecap: round\"/>\n     </g>\n     <g id=\"text_3\">\n      <!-- 1.0 -->\n      <g style=\"fill: #262626\" transform=\"translate(234.093605 261.936406) scale(0.11 -0.11)\">\n       <defs>\n        <path id=\"DejaVuSans-31\" d=\"M 794 531 \nL 1825 531 \nL 1825 4091 \nL 703 3866 \nL 703 4441 \nL 1819 4666 \nL 2450 4666 \nL 2450 531 \nL 3481 531 \nL 3481 0 \nL 794 0 \nL 794 531 \nz\n\" transform=\"scale(0.015625)\"/>\n       </defs>\n       <use xlink:href=\"#DejaVuSans-31\"/>\n       <use xlink:href=\"#DejaVuSans-2e\" transform=\"translate(63.623047 0)\"/>\n       <use xlink:href=\"#DejaVuSans-30\" transform=\"translate(95.410156 0)\"/>\n      </g>\n     </g>\n    </g>\n    <g id=\"text_4\">\n     <!-- $x_1$ -->\n     <g style=\"fill: #262626\" transform=\"translate(164.204844 277.342188) scale(0.12 -0.12)\">\n      <defs>\n       <path id=\"DejaVuSans-Oblique-78\" d=\"M 3841 3500 \nL 2234 1784 \nL 3219 0 \nL 2559 0 \nL 1819 1388 \nL 531 0 \nL -166 0 \nL 1556 1844 \nL 641 3500 \nL 1300 3500 \nL 1972 2234 \nL 3144 3500 \nL 3841 3500 \nz\n\" transform=\"scale(0.015625)\"/>\n      </defs>\n      <use xlink:href=\"#DejaVuSans-Oblique-78\" transform=\"translate(0 0.3125)\"/>\n      <use xlink:href=\"#DejaVuSans-31\" transform=\"translate(59.179688 -16.09375) scale(0.7)\"/>\n     </g>\n    </g>\n   </g>\n   <g id=\"matplotlib.axis_2\">\n    <g id=\"ytick_1\">\n     <g id=\"line2d_4\">\n      <path d=\"M 59.024844 228.151862 \nL 282.224844 228.151862 \n\" clip-path=\"url(#pf637281019)\" style=\"fill: none; stroke: #ffffff; stroke-linecap: round\"/>\n     </g>\n     <g id=\"text_5\">\n      <!-- −0.2 -->\n      <g style=\"fill: #262626\" transform=\"translate(22.81375 232.331003) scale(0.11 -0.11)\">\n       <defs>\n        <path id=\"DejaVuSans-2212\" d=\"M 678 2272 \nL 4684 2272 \nL 4684 1741 \nL 678 1741 \nL 678 2272 \nz\n\" transform=\"scale(0.015625)\"/>\n        <path id=\"DejaVuSans-32\" d=\"M 1228 531 \nL 3431 531 \nL 3431 0 \nL 469 0 \nL 469 531 \nQ 828 903 1448 1529 \nQ 2069 2156 2228 2338 \nQ 2531 2678 2651 2914 \nQ 2772 3150 2772 3378 \nQ 2772 3750 2511 3984 \nQ 2250 4219 1831 4219 \nQ 1534 4219 1204 4116 \nQ 875 4013 500 3803 \nL 500 4441 \nQ 881 4594 1212 4672 \nQ 1544 4750 1819 4750 \nQ 2544 4750 2975 4387 \nQ 3406 4025 3406 3419 \nQ 3406 3131 3298 2873 \nQ 3191 2616 2906 2266 \nQ 2828 2175 2409 1742 \nQ 1991 1309 1228 531 \nz\n\" transform=\"scale(0.015625)\"/>\n       </defs>\n       <use xlink:href=\"#DejaVuSans-2212\"/>\n       <use xlink:href=\"#DejaVuSans-30\" transform=\"translate(83.789062 0)\"/>\n       <use xlink:href=\"#DejaVuSans-2e\" transform=\"translate(147.412109 0)\"/>\n       <use xlink:href=\"#DejaVuSans-32\" transform=\"translate(179.199219 0)\"/>\n      </g>\n     </g>\n    </g>\n    <g id=\"ytick_2\">\n     <g id=\"line2d_5\">\n      <path d=\"M 59.024844 200.94299 \nL 282.224844 200.94299 \n\" clip-path=\"url(#pf637281019)\" style=\"fill: none; stroke: #ffffff; stroke-linecap: round\"/>\n     </g>\n     <g id=\"text_6\">\n      <!-- 0.0 -->\n      <g style=\"fill: #262626\" transform=\"translate(32.031406 205.122131) scale(0.11 -0.11)\">\n       <use xlink:href=\"#DejaVuSans-30\"/>\n       <use xlink:href=\"#DejaVuSans-2e\" transform=\"translate(63.623047 0)\"/>\n       <use xlink:href=\"#DejaVuSans-30\" transform=\"translate(95.410156 0)\"/>\n      </g>\n     </g>\n    </g>\n    <g id=\"ytick_3\">\n     <g id=\"line2d_6\">\n      <path d=\"M 59.024844 173.734118 \nL 282.224844 173.734118 \n\" clip-path=\"url(#pf637281019)\" style=\"fill: none; stroke: #ffffff; stroke-linecap: round\"/>\n     </g>\n     <g id=\"text_7\">\n      <!-- 0.2 -->\n      <g style=\"fill: #262626\" transform=\"translate(32.031406 177.913259) scale(0.11 -0.11)\">\n       <use xlink:href=\"#DejaVuSans-30\"/>\n       <use xlink:href=\"#DejaVuSans-2e\" transform=\"translate(63.623047 0)\"/>\n       <use xlink:href=\"#DejaVuSans-32\" transform=\"translate(95.410156 0)\"/>\n      </g>\n     </g>\n    </g>\n    <g id=\"ytick_4\">\n     <g id=\"line2d_7\">\n      <path d=\"M 59.024844 146.525246 \nL 282.224844 146.525246 \n\" clip-path=\"url(#pf637281019)\" style=\"fill: none; stroke: #ffffff; stroke-linecap: round\"/>\n     </g>\n     <g id=\"text_8\">\n      <!-- 0.4 -->\n      <g style=\"fill: #262626\" transform=\"translate(32.031406 150.704386) scale(0.11 -0.11)\">\n       <defs>\n        <path id=\"DejaVuSans-34\" d=\"M 2419 4116 \nL 825 1625 \nL 2419 1625 \nL 2419 4116 \nz\nM 2253 4666 \nL 3047 4666 \nL 3047 1625 \nL 3713 1625 \nL 3713 1100 \nL 3047 1100 \nL 3047 0 \nL 2419 0 \nL 2419 1100 \nL 313 1100 \nL 313 1709 \nL 2253 4666 \nz\n\" transform=\"scale(0.015625)\"/>\n       </defs>\n       <use xlink:href=\"#DejaVuSans-30\"/>\n       <use xlink:href=\"#DejaVuSans-2e\" transform=\"translate(63.623047 0)\"/>\n       <use xlink:href=\"#DejaVuSans-34\" transform=\"translate(95.410156 0)\"/>\n      </g>\n     </g>\n    </g>\n    <g id=\"ytick_5\">\n     <g id=\"line2d_8\">\n      <path d=\"M 59.024844 119.316373 \nL 282.224844 119.316373 \n\" clip-path=\"url(#pf637281019)\" style=\"fill: none; stroke: #ffffff; stroke-linecap: round\"/>\n     </g>\n     <g id=\"text_9\">\n      <!-- 0.6 -->\n      <g style=\"fill: #262626\" transform=\"translate(32.031406 123.495514) scale(0.11 -0.11)\">\n       <defs>\n        <path id=\"DejaVuSans-36\" d=\"M 2113 2584 \nQ 1688 2584 1439 2293 \nQ 1191 2003 1191 1497 \nQ 1191 994 1439 701 \nQ 1688 409 2113 409 \nQ 2538 409 2786 701 \nQ 3034 994 3034 1497 \nQ 3034 2003 2786 2293 \nQ 2538 2584 2113 2584 \nz\nM 3366 4563 \nL 3366 3988 \nQ 3128 4100 2886 4159 \nQ 2644 4219 2406 4219 \nQ 1781 4219 1451 3797 \nQ 1122 3375 1075 2522 \nQ 1259 2794 1537 2939 \nQ 1816 3084 2150 3084 \nQ 2853 3084 3261 2657 \nQ 3669 2231 3669 1497 \nQ 3669 778 3244 343 \nQ 2819 -91 2113 -91 \nQ 1303 -91 875 529 \nQ 447 1150 447 2328 \nQ 447 3434 972 4092 \nQ 1497 4750 2381 4750 \nQ 2619 4750 2861 4703 \nQ 3103 4656 3366 4563 \nz\n\" transform=\"scale(0.015625)\"/>\n       </defs>\n       <use xlink:href=\"#DejaVuSans-30\"/>\n       <use xlink:href=\"#DejaVuSans-2e\" transform=\"translate(63.623047 0)\"/>\n       <use xlink:href=\"#DejaVuSans-36\" transform=\"translate(95.410156 0)\"/>\n      </g>\n     </g>\n    </g>\n    <g id=\"ytick_6\">\n     <g id=\"line2d_9\">\n      <path d=\"M 59.024844 92.107501 \nL 282.224844 92.107501 \n\" clip-path=\"url(#pf637281019)\" style=\"fill: none; stroke: #ffffff; stroke-linecap: round\"/>\n     </g>\n     <g id=\"text_10\">\n      <!-- 0.8 -->\n      <g style=\"fill: #262626\" transform=\"translate(32.031406 96.286642) scale(0.11 -0.11)\">\n       <defs>\n        <path id=\"DejaVuSans-38\" d=\"M 2034 2216 \nQ 1584 2216 1326 1975 \nQ 1069 1734 1069 1313 \nQ 1069 891 1326 650 \nQ 1584 409 2034 409 \nQ 2484 409 2743 651 \nQ 3003 894 3003 1313 \nQ 3003 1734 2745 1975 \nQ 2488 2216 2034 2216 \nz\nM 1403 2484 \nQ 997 2584 770 2862 \nQ 544 3141 544 3541 \nQ 544 4100 942 4425 \nQ 1341 4750 2034 4750 \nQ 2731 4750 3128 4425 \nQ 3525 4100 3525 3541 \nQ 3525 3141 3298 2862 \nQ 3072 2584 2669 2484 \nQ 3125 2378 3379 2068 \nQ 3634 1759 3634 1313 \nQ 3634 634 3220 271 \nQ 2806 -91 2034 -91 \nQ 1263 -91 848 271 \nQ 434 634 434 1313 \nQ 434 1759 690 2068 \nQ 947 2378 1403 2484 \nz\nM 1172 3481 \nQ 1172 3119 1398 2916 \nQ 1625 2713 2034 2713 \nQ 2441 2713 2670 2916 \nQ 2900 3119 2900 3481 \nQ 2900 3844 2670 4047 \nQ 2441 4250 2034 4250 \nQ 1625 4250 1398 4047 \nQ 1172 3844 1172 3481 \nz\n\" transform=\"scale(0.015625)\"/>\n       </defs>\n       <use xlink:href=\"#DejaVuSans-30\"/>\n       <use xlink:href=\"#DejaVuSans-2e\" transform=\"translate(63.623047 0)\"/>\n       <use xlink:href=\"#DejaVuSans-38\" transform=\"translate(95.410156 0)\"/>\n      </g>\n     </g>\n    </g>\n    <g id=\"ytick_7\">\n     <g id=\"line2d_10\">\n      <path d=\"M 59.024844 64.898629 \nL 282.224844 64.898629 \n\" clip-path=\"url(#pf637281019)\" style=\"fill: none; stroke: #ffffff; stroke-linecap: round\"/>\n     </g>\n     <g id=\"text_11\">\n      <!-- 1.0 -->\n      <g style=\"fill: #262626\" transform=\"translate(32.031406 69.07777) scale(0.11 -0.11)\">\n       <use xlink:href=\"#DejaVuSans-31\"/>\n       <use xlink:href=\"#DejaVuSans-2e\" transform=\"translate(63.623047 0)\"/>\n       <use xlink:href=\"#DejaVuSans-30\" transform=\"translate(95.410156 0)\"/>\n      </g>\n     </g>\n    </g>\n    <g id=\"ytick_8\">\n     <g id=\"line2d_11\">\n      <path d=\"M 59.024844 37.689757 \nL 282.224844 37.689757 \n\" clip-path=\"url(#pf637281019)\" style=\"fill: none; stroke: #ffffff; stroke-linecap: round\"/>\n     </g>\n     <g id=\"text_12\">\n      <!-- 1.2 -->\n      <g style=\"fill: #262626\" transform=\"translate(32.031406 41.868897) scale(0.11 -0.11)\">\n       <use xlink:href=\"#DejaVuSans-31\"/>\n       <use xlink:href=\"#DejaVuSans-2e\" transform=\"translate(63.623047 0)\"/>\n       <use xlink:href=\"#DejaVuSans-32\" transform=\"translate(95.410156 0)\"/>\n      </g>\n     </g>\n    </g>\n    <g id=\"text_13\">\n     <!-- $x_2$ -->\n     <g style=\"fill: #262626\" transform=\"translate(16.318125 139.618125) rotate(-90) scale(0.12 -0.12)\">\n      <use xlink:href=\"#DejaVuSans-Oblique-78\" transform=\"translate(0 0.3125)\"/>\n      <use xlink:href=\"#DejaVuSans-32\" transform=\"translate(59.179688 -16.09375) scale(0.7)\"/>\n     </g>\n    </g>\n   </g>\n   <g id=\"PathCollection_1\">\n    <defs>\n     <path id=\"m89fb8e46bc\" d=\"M 0 3 \nC 0.795609 3 1.55874 2.683901 2.12132 2.12132 \nC 2.683901 1.55874 3 0.795609 3 0 \nC 3 -0.795609 2.683901 -1.55874 2.12132 -2.12132 \nC 1.55874 -2.683901 0.795609 -3 0 -3 \nC -0.795609 -3 -1.55874 -2.683901 -2.12132 -2.12132 \nC -2.683901 -1.55874 -3 -0.795609 -3 0 \nC -3 0.795609 -2.683901 1.55874 -2.12132 2.12132 \nC -1.55874 2.683901 -0.795609 3 0 3 \nz\n\" style=\"stroke: #333333\"/>\n    </defs>\n    <g clip-path=\"url(#pf637281019)\">\n     <use xlink:href=\"#m89fb8e46bc\" x=\"251.005697\" y=\"72.040059\" style=\"fill: #4c72b0; stroke: #333333\"/>\n     <use xlink:href=\"#m89fb8e46bc\" x=\"226.494746\" y=\"95.781566\" style=\"fill: #4c72b0; stroke: #333333\"/>\n     <use xlink:href=\"#m89fb8e46bc\" x=\"233.24893\" y=\"79.0977\" style=\"fill: #4c72b0; stroke: #333333\"/>\n     <use xlink:href=\"#m89fb8e46bc\" x=\"251.855222\" y=\"71.603794\" style=\"fill: #4c72b0; stroke: #333333\"/>\n     <use xlink:href=\"#m89fb8e46bc\" x=\"231.462814\" y=\"60.588745\" style=\"fill: #4c72b0; stroke: #333333\"/>\n     <use xlink:href=\"#m89fb8e46bc\" x=\"103.175587\" y=\"197.976135\" style=\"fill: #4c72b0; stroke: #333333\"/>\n     <use xlink:href=\"#m89fb8e46bc\" x=\"238.921563\" y=\"68.687874\" style=\"fill: #4c72b0; stroke: #333333\"/>\n     <use xlink:href=\"#m89fb8e46bc\" x=\"232.246374\" y=\"32.398125\" style=\"fill: #4c72b0; stroke: #333333\"/>\n     <use xlink:href=\"#m89fb8e46bc\" x=\"109.537241\" y=\"219.799781\" style=\"fill: #4c72b0; stroke: #333333\"/>\n     <use xlink:href=\"#m89fb8e46bc\" x=\"108.189714\" y=\"209.5248\" style=\"fill: #4c72b0; stroke: #333333\"/>\n     <use xlink:href=\"#m89fb8e46bc\" x=\"77.84736\" y=\"194.265522\" style=\"fill: #4c72b0; stroke: #333333\"/>\n     <use xlink:href=\"#m89fb8e46bc\" x=\"249.749447\" y=\"65.160578\" style=\"fill: #4c72b0; stroke: #333333\"/>\n     <use xlink:href=\"#m89fb8e46bc\" x=\"238.880615\" y=\"58.13774\" style=\"fill: #4c72b0; stroke: #333333\"/>\n     <use xlink:href=\"#m89fb8e46bc\" x=\"100.84285\" y=\"209.039573\" style=\"fill: #4c72b0; stroke: #333333\"/>\n     <use xlink:href=\"#m89fb8e46bc\" x=\"244.40288\" y=\"60.238523\" style=\"fill: #4c72b0; stroke: #333333\"/>\n     <use xlink:href=\"#m89fb8e46bc\" x=\"110.407015\" y=\"204.859887\" style=\"fill: #4c72b0; stroke: #333333\"/>\n     <use xlink:href=\"#m89fb8e46bc\" x=\"243.88997\" y=\"57.182369\" style=\"fill: #4c72b0; stroke: #333333\"/>\n     <use xlink:href=\"#m89fb8e46bc\" x=\"244.921908\" y=\"69.126135\" style=\"fill: #4c72b0; stroke: #333333\"/>\n     <use xlink:href=\"#m89fb8e46bc\" x=\"239.033967\" y=\"64.360605\" style=\"fill: #4c72b0; stroke: #333333\"/>\n     <use xlink:href=\"#m89fb8e46bc\" x=\"101.128083\" y=\"216.998579\" style=\"fill: #4c72b0; stroke: #333333\"/>\n     <use xlink:href=\"#m89fb8e46bc\" x=\"96.095741\" y=\"189.807996\" style=\"fill: #4c72b0; stroke: #333333\"/>\n     <use xlink:href=\"#m89fb8e46bc\" x=\"258.131327\" y=\"96.943025\" style=\"fill: #4c72b0; stroke: #333333\"/>\n     <use xlink:href=\"#m89fb8e46bc\" x=\"261.679385\" y=\"89.984272\" style=\"fill: #4c72b0; stroke: #333333\"/>\n     <use xlink:href=\"#m89fb8e46bc\" x=\"232.969243\" y=\"65.724429\" style=\"fill: #4c72b0; stroke: #333333\"/>\n     <use xlink:href=\"#m89fb8e46bc\" x=\"108.120634\" y=\"221.24185\" style=\"fill: #4c72b0; stroke: #333333\"/>\n     <use xlink:href=\"#m89fb8e46bc\" x=\"260.837035\" y=\"39.59352\" style=\"fill: #4c72b0; stroke: #333333\"/>\n     <use xlink:href=\"#m89fb8e46bc\" x=\"270.035041\" y=\"73.276046\" style=\"fill: #4c72b0; stroke: #333333\"/>\n     <use xlink:href=\"#m89fb8e46bc\" x=\"121.285893\" y=\"180.740452\" style=\"fill: #4c72b0; stroke: #333333\"/>\n     <use xlink:href=\"#m89fb8e46bc\" x=\"235.52169\" y=\"39.309012\" style=\"fill: #4c72b0; stroke: #333333\"/>\n     <use xlink:href=\"#m89fb8e46bc\" x=\"106.644921\" y=\"199.407065\" style=\"fill: #4c72b0; stroke: #333333\"/>\n     <use xlink:href=\"#m89fb8e46bc\" x=\"234.671081\" y=\"58.2012\" style=\"fill: #4c72b0; stroke: #333333\"/>\n     <use xlink:href=\"#m89fb8e46bc\" x=\"93.74526\" y=\"184.343049\" style=\"fill: #4c72b0; stroke: #333333\"/>\n     <use xlink:href=\"#m89fb8e46bc\" x=\"257.590969\" y=\"55.509767\" style=\"fill: #4c72b0; stroke: #333333\"/>\n     <use xlink:href=\"#m89fb8e46bc\" x=\"248.624236\" y=\"74.901284\" style=\"fill: #4c72b0; stroke: #333333\"/>\n     <use xlink:href=\"#m89fb8e46bc\" x=\"247.043425\" y=\"50.502958\" style=\"fill: #4c72b0; stroke: #333333\"/>\n     <use xlink:href=\"#m89fb8e46bc\" x=\"99.204887\" y=\"189.15316\" style=\"fill: #4c72b0; stroke: #333333\"/>\n     <use xlink:href=\"#m89fb8e46bc\" x=\"111.370021\" y=\"214.124195\" style=\"fill: #4c72b0; stroke: #333333\"/>\n     <use xlink:href=\"#m89fb8e46bc\" x=\"128.533939\" y=\"211.713721\" style=\"fill: #4c72b0; stroke: #333333\"/>\n     <use xlink:href=\"#m89fb8e46bc\" x=\"104.609392\" y=\"205.854328\" style=\"fill: #4c72b0; stroke: #333333\"/>\n     <use xlink:href=\"#m89fb8e46bc\" x=\"119.066364\" y=\"205.409629\" style=\"fill: #4c72b0; stroke: #333333\"/>\n     <use xlink:href=\"#m89fb8e46bc\" x=\"118.877575\" y=\"201.003539\" style=\"fill: #4c72b0; stroke: #333333\"/>\n     <use xlink:href=\"#m89fb8e46bc\" x=\"119.826314\" y=\"216.590141\" style=\"fill: #4c72b0; stroke: #333333\"/>\n     <use xlink:href=\"#m89fb8e46bc\" x=\"220.787431\" y=\"46.488027\" style=\"fill: #4c72b0; stroke: #333333\"/>\n     <use xlink:href=\"#m89fb8e46bc\" x=\"260.272851\" y=\"71.112177\" style=\"fill: #4c72b0; stroke: #333333\"/>\n     <use xlink:href=\"#m89fb8e46bc\" x=\"249.140387\" y=\"54.732969\" style=\"fill: #4c72b0; stroke: #333333\"/>\n     <use xlink:href=\"#m89fb8e46bc\" x=\"110.888561\" y=\"219.925199\" style=\"fill: #4c72b0; stroke: #333333\"/>\n     <use xlink:href=\"#m89fb8e46bc\" x=\"229.560921\" y=\"95.246802\" style=\"fill: #4c72b0; stroke: #333333\"/>\n     <use xlink:href=\"#m89fb8e46bc\" x=\"252.931424\" y=\"63.401552\" style=\"fill: #4c72b0; stroke: #333333\"/>\n     <use xlink:href=\"#m89fb8e46bc\" x=\"104.772263\" y=\"216.506691\" style=\"fill: #4c72b0; stroke: #333333\"/>\n     <use xlink:href=\"#m89fb8e46bc\" x=\"117.472818\" y=\"221.977343\" style=\"fill: #4c72b0; stroke: #333333\"/>\n     <use xlink:href=\"#m89fb8e46bc\" x=\"126.142513\" y=\"181.91382\" style=\"fill: #4c72b0; stroke: #333333\"/>\n     <use xlink:href=\"#m89fb8e46bc\" x=\"234.255413\" y=\"51.847539\" style=\"fill: #4c72b0; stroke: #333333\"/>\n     <use xlink:href=\"#m89fb8e46bc\" x=\"223.971929\" y=\"51.158074\" style=\"fill: #4c72b0; stroke: #333333\"/>\n     <use xlink:href=\"#m89fb8e46bc\" x=\"97.284907\" y=\"210.284228\" style=\"fill: #4c72b0; stroke: #333333\"/>\n     <use xlink:href=\"#m89fb8e46bc\" x=\"237.50152\" y=\"74.93706\" style=\"fill: #4c72b0; stroke: #333333\"/>\n     <use xlink:href=\"#m89fb8e46bc\" x=\"105.506427\" y=\"205.572961\" style=\"fill: #4c72b0; stroke: #333333\"/>\n     <use xlink:href=\"#m89fb8e46bc\" x=\"245.415258\" y=\"73.484145\" style=\"fill: #4c72b0; stroke: #333333\"/>\n     <use xlink:href=\"#m89fb8e46bc\" x=\"102.030951\" y=\"193.476671\" style=\"fill: #4c72b0; stroke: #333333\"/>\n     <use xlink:href=\"#m89fb8e46bc\" x=\"234.523839\" y=\"82.91064\" style=\"fill: #4c72b0; stroke: #333333\"/>\n     <use xlink:href=\"#m89fb8e46bc\" x=\"246.0265\" y=\"54.191475\" style=\"fill: #4c72b0; stroke: #333333\"/>\n     <use xlink:href=\"#m89fb8e46bc\" x=\"77.849441\" y=\"195.298972\" style=\"fill: #4c72b0; stroke: #333333\"/>\n     <use xlink:href=\"#m89fb8e46bc\" x=\"223.848588\" y=\"53.95549\" style=\"fill: #4c72b0; stroke: #333333\"/>\n     <use xlink:href=\"#m89fb8e46bc\" x=\"254.206341\" y=\"72.107679\" style=\"fill: #4c72b0; stroke: #333333\"/>\n     <use xlink:href=\"#m89fb8e46bc\" x=\"89.806419\" y=\"201.423431\" style=\"fill: #4c72b0; stroke: #333333\"/>\n     <use xlink:href=\"#m89fb8e46bc\" x=\"101.474114\" y=\"233.998125\" style=\"fill: #4c72b0; stroke: #333333\"/>\n     <use xlink:href=\"#m89fb8e46bc\" x=\"98.300508\" y=\"185.928398\" style=\"fill: #4c72b0; stroke: #333333\"/>\n     <use xlink:href=\"#m89fb8e46bc\" x=\"82.790407\" y=\"204.561949\" style=\"fill: #4c72b0; stroke: #333333\"/>\n     <use xlink:href=\"#m89fb8e46bc\" x=\"250.562084\" y=\"69.698256\" style=\"fill: #4c72b0; stroke: #333333\"/>\n     <use xlink:href=\"#m89fb8e46bc\" x=\"234.515365\" y=\"80.134882\" style=\"fill: #4c72b0; stroke: #333333\"/>\n     <use xlink:href=\"#m89fb8e46bc\" x=\"235.005341\" y=\"84.851969\" style=\"fill: #4c72b0; stroke: #333333\"/>\n     <use xlink:href=\"#m89fb8e46bc\" x=\"83.354631\" y=\"190.087294\" style=\"fill: #4c72b0; stroke: #333333\"/>\n     <use xlink:href=\"#m89fb8e46bc\" x=\"245.761431\" y=\"88.679845\" style=\"fill: #4c72b0; stroke: #333333\"/>\n     <use xlink:href=\"#m89fb8e46bc\" x=\"256.086995\" y=\"95.807539\" style=\"fill: #4c72b0; stroke: #333333\"/>\n     <use xlink:href=\"#m89fb8e46bc\" x=\"125.251842\" y=\"222.594094\" style=\"fill: #4c72b0; stroke: #333333\"/>\n     <use xlink:href=\"#m89fb8e46bc\" x=\"117.955316\" y=\"197.55995\" style=\"fill: #4c72b0; stroke: #333333\"/>\n     <use xlink:href=\"#m89fb8e46bc\" x=\"101.824266\" y=\"194.722254\" style=\"fill: #4c72b0; stroke: #333333\"/>\n     <use xlink:href=\"#m89fb8e46bc\" x=\"107.437798\" y=\"184.008925\" style=\"fill: #4c72b0; stroke: #333333\"/>\n     <use xlink:href=\"#m89fb8e46bc\" x=\"239.670797\" y=\"59.529126\" style=\"fill: #4c72b0; stroke: #333333\"/>\n     <use xlink:href=\"#m89fb8e46bc\" x=\"233.834924\" y=\"94.321798\" style=\"fill: #4c72b0; stroke: #333333\"/>\n     <use xlink:href=\"#m89fb8e46bc\" x=\"115.721834\" y=\"200.451086\" style=\"fill: #4c72b0; stroke: #333333\"/>\n     <use xlink:href=\"#m89fb8e46bc\" x=\"113.855176\" y=\"191.59465\" style=\"fill: #4c72b0; stroke: #333333\"/>\n     <use xlink:href=\"#m89fb8e46bc\" x=\"107.801253\" y=\"205.278643\" style=\"fill: #4c72b0; stroke: #333333\"/>\n     <use xlink:href=\"#m89fb8e46bc\" x=\"246.091317\" y=\"44.487453\" style=\"fill: #4c72b0; stroke: #333333\"/>\n     <use xlink:href=\"#m89fb8e46bc\" x=\"245.18129\" y=\"42.677747\" style=\"fill: #4c72b0; stroke: #333333\"/>\n     <use xlink:href=\"#m89fb8e46bc\" x=\"103.858405\" y=\"212.545917\" style=\"fill: #4c72b0; stroke: #333333\"/>\n     <use xlink:href=\"#m89fb8e46bc\" x=\"256.895945\" y=\"44.596972\" style=\"fill: #4c72b0; stroke: #333333\"/>\n     <use xlink:href=\"#m89fb8e46bc\" x=\"239.223307\" y=\"78.76998\" style=\"fill: #4c72b0; stroke: #333333\"/>\n     <use xlink:href=\"#m89fb8e46bc\" x=\"255.063622\" y=\"40.528781\" style=\"fill: #4c72b0; stroke: #333333\"/>\n     <use xlink:href=\"#m89fb8e46bc\" x=\"128.055401\" y=\"202.87392\" style=\"fill: #4c72b0; stroke: #333333\"/>\n     <use xlink:href=\"#m89fb8e46bc\" x=\"241.134476\" y=\"54.742343\" style=\"fill: #4c72b0; stroke: #333333\"/>\n     <use xlink:href=\"#m89fb8e46bc\" x=\"110.418035\" y=\"195.387592\" style=\"fill: #4c72b0; stroke: #333333\"/>\n     <use xlink:href=\"#m89fb8e46bc\" x=\"114.664014\" y=\"208.803053\" style=\"fill: #4c72b0; stroke: #333333\"/>\n     <use xlink:href=\"#m89fb8e46bc\" x=\"94.590702\" y=\"195.897795\" style=\"fill: #4c72b0; stroke: #333333\"/>\n     <use xlink:href=\"#m89fb8e46bc\" x=\"228.340586\" y=\"41.782576\" style=\"fill: #4c72b0; stroke: #333333\"/>\n     <use xlink:href=\"#m89fb8e46bc\" x=\"232.032075\" y=\"54.590269\" style=\"fill: #4c72b0; stroke: #333333\"/>\n     <use xlink:href=\"#m89fb8e46bc\" x=\"209.50665\" y=\"51.487651\" style=\"fill: #4c72b0; stroke: #333333\"/>\n     <use xlink:href=\"#m89fb8e46bc\" x=\"93.845438\" y=\"196.211464\" style=\"fill: #4c72b0; stroke: #333333\"/>\n     <use xlink:href=\"#m89fb8e46bc\" x=\"92.305042\" y=\"207.941174\" style=\"fill: #4c72b0; stroke: #333333\"/>\n     <use xlink:href=\"#m89fb8e46bc\" x=\"98.640687\" y=\"214.230787\" style=\"fill: #4c72b0; stroke: #333333\"/>\n     <use xlink:href=\"#m89fb8e46bc\" x=\"232.756002\" y=\"96.836328\" style=\"fill: #4c72b0; stroke: #333333\"/>\n     <use xlink:href=\"#m89fb8e46bc\" x=\"108.951144\" y=\"199.925536\" style=\"fill: #4c72b0; stroke: #333333\"/>\n     <use xlink:href=\"#m89fb8e46bc\" x=\"101.769149\" y=\"193.859156\" style=\"fill: #4c72b0; stroke: #333333\"/>\n     <use xlink:href=\"#m89fb8e46bc\" x=\"97.751171\" y=\"211.794785\" style=\"fill: #4c72b0; stroke: #333333\"/>\n    </g>\n   </g>\n   <g id=\"PathCollection_2\">\n    <defs>\n     <path id=\"mc5c59fbe31\" d=\"M 0 3 \nC 0.795609 3 1.55874 2.683901 2.12132 2.12132 \nC 2.683901 1.55874 3 0.795609 3 0 \nC 3 -0.795609 2.683901 -1.55874 2.12132 -2.12132 \nC 1.55874 -2.683901 0.795609 -3 0 -3 \nC -0.795609 -3 -1.55874 -2.683901 -2.12132 -2.12132 \nC -2.683901 -1.55874 -3 -0.795609 -3 0 \nC -3 0.795609 -2.683901 1.55874 -2.12132 2.12132 \nC -1.55874 2.683901 -0.795609 3 0 3 \nz\n\" style=\"stroke: #333333\"/>\n    </defs>\n    <g clip-path=\"url(#pf637281019)\">\n     <use xlink:href=\"#mc5c59fbe31\" x=\"82.627605\" y=\"67.890674\" style=\"fill: #dd8452; stroke: #333333\"/>\n     <use xlink:href=\"#mc5c59fbe31\" x=\"249.627867\" y=\"218.398649\" style=\"fill: #dd8452; stroke: #333333\"/>\n     <use xlink:href=\"#mc5c59fbe31\" x=\"246.238262\" y=\"201.301318\" style=\"fill: #dd8452; stroke: #333333\"/>\n     <use xlink:href=\"#mc5c59fbe31\" x=\"250.706334\" y=\"186.009893\" style=\"fill: #dd8452; stroke: #333333\"/>\n     <use xlink:href=\"#mc5c59fbe31\" x=\"238.881003\" y=\"203.502244\" style=\"fill: #dd8452; stroke: #333333\"/>\n     <use xlink:href=\"#mc5c59fbe31\" x=\"96.610282\" y=\"52.177441\" style=\"fill: #dd8452; stroke: #333333\"/>\n     <use xlink:href=\"#mc5c59fbe31\" x=\"248.009587\" y=\"194.97582\" style=\"fill: #dd8452; stroke: #333333\"/>\n     <use xlink:href=\"#mc5c59fbe31\" x=\"107.264311\" y=\"70.076\" style=\"fill: #dd8452; stroke: #333333\"/>\n     <use xlink:href=\"#mc5c59fbe31\" x=\"226.725944\" y=\"215.740832\" style=\"fill: #dd8452; stroke: #333333\"/>\n     <use xlink:href=\"#mc5c59fbe31\" x=\"137.462566\" y=\"66.178575\" style=\"fill: #dd8452; stroke: #333333\"/>\n     <use xlink:href=\"#mc5c59fbe31\" x=\"254.399964\" y=\"221.503452\" style=\"fill: #dd8452; stroke: #333333\"/>\n     <use xlink:href=\"#mc5c59fbe31\" x=\"242.037418\" y=\"207.143939\" style=\"fill: #dd8452; stroke: #333333\"/>\n     <use xlink:href=\"#mc5c59fbe31\" x=\"236.770813\" y=\"177.961576\" style=\"fill: #dd8452; stroke: #333333\"/>\n     <use xlink:href=\"#mc5c59fbe31\" x=\"90.355993\" y=\"58.342214\" style=\"fill: #dd8452; stroke: #333333\"/>\n     <use xlink:href=\"#mc5c59fbe31\" x=\"123.449481\" y=\"52.315438\" style=\"fill: #dd8452; stroke: #333333\"/>\n     <use xlink:href=\"#mc5c59fbe31\" x=\"103.341406\" y=\"82.831667\" style=\"fill: #dd8452; stroke: #333333\"/>\n     <use xlink:href=\"#mc5c59fbe31\" x=\"89.284274\" y=\"68.721104\" style=\"fill: #dd8452; stroke: #333333\"/>\n     <use xlink:href=\"#mc5c59fbe31\" x=\"82.572453\" y=\"45.906782\" style=\"fill: #dd8452; stroke: #333333\"/>\n     <use xlink:href=\"#mc5c59fbe31\" x=\"240.785963\" y=\"206.286394\" style=\"fill: #dd8452; stroke: #333333\"/>\n     <use xlink:href=\"#mc5c59fbe31\" x=\"223.146677\" y=\"185.598657\" style=\"fill: #dd8452; stroke: #333333\"/>\n     <use xlink:href=\"#mc5c59fbe31\" x=\"232.809459\" y=\"187.634859\" style=\"fill: #dd8452; stroke: #333333\"/>\n     <use xlink:href=\"#mc5c59fbe31\" x=\"93.571427\" y=\"62.51522\" style=\"fill: #dd8452; stroke: #333333\"/>\n     <use xlink:href=\"#mc5c59fbe31\" x=\"219.13022\" y=\"196.815189\" style=\"fill: #dd8452; stroke: #333333\"/>\n     <use xlink:href=\"#mc5c59fbe31\" x=\"237.224124\" y=\"214.427377\" style=\"fill: #dd8452; stroke: #333333\"/>\n     <use xlink:href=\"#mc5c59fbe31\" x=\"236.292535\" y=\"184.151141\" style=\"fill: #dd8452; stroke: #333333\"/>\n     <use xlink:href=\"#mc5c59fbe31\" x=\"230.139566\" y=\"206.639765\" style=\"fill: #dd8452; stroke: #333333\"/>\n     <use xlink:href=\"#mc5c59fbe31\" x=\"261.488557\" y=\"181.350251\" style=\"fill: #dd8452; stroke: #333333\"/>\n     <use xlink:href=\"#mc5c59fbe31\" x=\"90.064639\" y=\"76.60238\" style=\"fill: #dd8452; stroke: #333333\"/>\n     <use xlink:href=\"#mc5c59fbe31\" x=\"258.588002\" y=\"184.241845\" style=\"fill: #dd8452; stroke: #333333\"/>\n     <use xlink:href=\"#mc5c59fbe31\" x=\"117.683193\" y=\"61.767306\" style=\"fill: #dd8452; stroke: #333333\"/>\n     <use xlink:href=\"#mc5c59fbe31\" x=\"258.957572\" y=\"210.707223\" style=\"fill: #dd8452; stroke: #333333\"/>\n     <use xlink:href=\"#mc5c59fbe31\" x=\"75.361809\" y=\"63.59104\" style=\"fill: #dd8452; stroke: #333333\"/>\n     <use xlink:href=\"#mc5c59fbe31\" x=\"132.465529\" y=\"60.590335\" style=\"fill: #dd8452; stroke: #333333\"/>\n     <use xlink:href=\"#mc5c59fbe31\" x=\"230.25688\" y=\"213.102068\" style=\"fill: #dd8452; stroke: #333333\"/>\n     <use xlink:href=\"#mc5c59fbe31\" x=\"221.809167\" y=\"187.931508\" style=\"fill: #dd8452; stroke: #333333\"/>\n     <use xlink:href=\"#mc5c59fbe31\" x=\"107.069524\" y=\"67.225852\" style=\"fill: #dd8452; stroke: #333333\"/>\n     <use xlink:href=\"#mc5c59fbe31\" x=\"232.947872\" y=\"193.645379\" style=\"fill: #dd8452; stroke: #333333\"/>\n     <use xlink:href=\"#mc5c59fbe31\" x=\"107.646006\" y=\"74.984684\" style=\"fill: #dd8452; stroke: #333333\"/>\n     <use xlink:href=\"#mc5c59fbe31\" x=\"104.549879\" y=\"77.6954\" style=\"fill: #dd8452; stroke: #333333\"/>\n     <use xlink:href=\"#mc5c59fbe31\" x=\"268.105097\" y=\"213.777141\" style=\"fill: #dd8452; stroke: #333333\"/>\n     <use xlink:href=\"#mc5c59fbe31\" x=\"261.514566\" y=\"201.260394\" style=\"fill: #dd8452; stroke: #333333\"/>\n     <use xlink:href=\"#mc5c59fbe31\" x=\"91.295948\" y=\"62.460063\" style=\"fill: #dd8452; stroke: #333333\"/>\n     <use xlink:href=\"#mc5c59fbe31\" x=\"121.568333\" y=\"64.485693\" style=\"fill: #dd8452; stroke: #333333\"/>\n     <use xlink:href=\"#mc5c59fbe31\" x=\"125.003489\" y=\"47.140678\" style=\"fill: #dd8452; stroke: #333333\"/>\n     <use xlink:href=\"#mc5c59fbe31\" x=\"251.195219\" y=\"210.791571\" style=\"fill: #dd8452; stroke: #333333\"/>\n     <use xlink:href=\"#mc5c59fbe31\" x=\"91.801361\" y=\"66.559019\" style=\"fill: #dd8452; stroke: #333333\"/>\n     <use xlink:href=\"#mc5c59fbe31\" x=\"268.149013\" y=\"207.513651\" style=\"fill: #dd8452; stroke: #333333\"/>\n     <use xlink:href=\"#mc5c59fbe31\" x=\"106.729752\" y=\"79.883418\" style=\"fill: #dd8452; stroke: #333333\"/>\n     <use xlink:href=\"#mc5c59fbe31\" x=\"121.451526\" y=\"88.452959\" style=\"fill: #dd8452; stroke: #333333\"/>\n     <use xlink:href=\"#mc5c59fbe31\" x=\"113.545439\" y=\"60.242675\" style=\"fill: #dd8452; stroke: #333333\"/>\n     <use xlink:href=\"#mc5c59fbe31\" x=\"227.164001\" y=\"190.908364\" style=\"fill: #dd8452; stroke: #333333\"/>\n     <use xlink:href=\"#mc5c59fbe31\" x=\"91.795046\" y=\"83.829351\" style=\"fill: #dd8452; stroke: #333333\"/>\n     <use xlink:href=\"#mc5c59fbe31\" x=\"109.433684\" y=\"67.811629\" style=\"fill: #dd8452; stroke: #333333\"/>\n     <use xlink:href=\"#mc5c59fbe31\" x=\"218.881785\" y=\"187.015613\" style=\"fill: #dd8452; stroke: #333333\"/>\n     <use xlink:href=\"#mc5c59fbe31\" x=\"238.563717\" y=\"199.962657\" style=\"fill: #dd8452; stroke: #333333\"/>\n     <use xlink:href=\"#mc5c59fbe31\" x=\"109.784851\" y=\"55.408439\" style=\"fill: #dd8452; stroke: #333333\"/>\n     <use xlink:href=\"#mc5c59fbe31\" x=\"105.682479\" y=\"38.491799\" style=\"fill: #dd8452; stroke: #333333\"/>\n     <use xlink:href=\"#mc5c59fbe31\" x=\"225.780417\" y=\"199.735774\" style=\"fill: #dd8452; stroke: #333333\"/>\n     <use xlink:href=\"#mc5c59fbe31\" x=\"217.276378\" y=\"202.393689\" style=\"fill: #dd8452; stroke: #333333\"/>\n     <use xlink:href=\"#mc5c59fbe31\" x=\"106.989185\" y=\"55.830116\" style=\"fill: #dd8452; stroke: #333333\"/>\n     <use xlink:href=\"#mc5c59fbe31\" x=\"69.170298\" y=\"75.975507\" style=\"fill: #dd8452; stroke: #333333\"/>\n     <use xlink:href=\"#mc5c59fbe31\" x=\"98.698359\" y=\"83.79098\" style=\"fill: #dd8452; stroke: #333333\"/>\n     <use xlink:href=\"#mc5c59fbe31\" x=\"116.347165\" y=\"58.803836\" style=\"fill: #dd8452; stroke: #333333\"/>\n     <use xlink:href=\"#mc5c59fbe31\" x=\"94.391267\" y=\"69.750518\" style=\"fill: #dd8452; stroke: #333333\"/>\n     <use xlink:href=\"#mc5c59fbe31\" x=\"100.898505\" y=\"62.403577\" style=\"fill: #dd8452; stroke: #333333\"/>\n     <use xlink:href=\"#mc5c59fbe31\" x=\"116.977273\" y=\"74.715696\" style=\"fill: #dd8452; stroke: #333333\"/>\n     <use xlink:href=\"#mc5c59fbe31\" x=\"264.182211\" y=\"206.838813\" style=\"fill: #dd8452; stroke: #333333\"/>\n     <use xlink:href=\"#mc5c59fbe31\" x=\"86.626022\" y=\"46.712399\" style=\"fill: #dd8452; stroke: #333333\"/>\n     <use xlink:href=\"#mc5c59fbe31\" x=\"239.624872\" y=\"195.549671\" style=\"fill: #dd8452; stroke: #333333\"/>\n     <use xlink:href=\"#mc5c59fbe31\" x=\"251.653068\" y=\"176.825614\" style=\"fill: #dd8452; stroke: #333333\"/>\n     <use xlink:href=\"#mc5c59fbe31\" x=\"221.338296\" y=\"215.6909\" style=\"fill: #dd8452; stroke: #333333\"/>\n     <use xlink:href=\"#mc5c59fbe31\" x=\"235.840416\" y=\"203.08426\" style=\"fill: #dd8452; stroke: #333333\"/>\n     <use xlink:href=\"#mc5c59fbe31\" x=\"105.110938\" y=\"48.190161\" style=\"fill: #dd8452; stroke: #333333\"/>\n     <use xlink:href=\"#mc5c59fbe31\" x=\"227.955126\" y=\"183.817813\" style=\"fill: #dd8452; stroke: #333333\"/>\n     <use xlink:href=\"#mc5c59fbe31\" x=\"214.647143\" y=\"170.083814\" style=\"fill: #dd8452; stroke: #333333\"/>\n     <use xlink:href=\"#mc5c59fbe31\" x=\"91.350295\" y=\"53.879834\" style=\"fill: #dd8452; stroke: #333333\"/>\n     <use xlink:href=\"#mc5c59fbe31\" x=\"115.184403\" y=\"66.423073\" style=\"fill: #dd8452; stroke: #333333\"/>\n     <use xlink:href=\"#mc5c59fbe31\" x=\"253.888856\" y=\"189.074994\" style=\"fill: #dd8452; stroke: #333333\"/>\n     <use xlink:href=\"#mc5c59fbe31\" x=\"98.888029\" y=\"58.097796\" style=\"fill: #dd8452; stroke: #333333\"/>\n     <use xlink:href=\"#mc5c59fbe31\" x=\"110.839939\" y=\"68.129538\" style=\"fill: #dd8452; stroke: #333333\"/>\n     <use xlink:href=\"#mc5c59fbe31\" x=\"109.239359\" y=\"71.321078\" style=\"fill: #dd8452; stroke: #333333\"/>\n     <use xlink:href=\"#mc5c59fbe31\" x=\"237.390927\" y=\"182.055109\" style=\"fill: #dd8452; stroke: #333333\"/>\n     <use xlink:href=\"#mc5c59fbe31\" x=\"245.348705\" y=\"172.966957\" style=\"fill: #dd8452; stroke: #333333\"/>\n     <use xlink:href=\"#mc5c59fbe31\" x=\"232.143404\" y=\"208.755839\" style=\"fill: #dd8452; stroke: #333333\"/>\n     <use xlink:href=\"#mc5c59fbe31\" x=\"141.672506\" y=\"65.888504\" style=\"fill: #dd8452; stroke: #333333\"/>\n     <use xlink:href=\"#mc5c59fbe31\" x=\"252.78319\" y=\"226.978812\" style=\"fill: #dd8452; stroke: #333333\"/>\n     <use xlink:href=\"#mc5c59fbe31\" x=\"272.079389\" y=\"216.998856\" style=\"fill: #dd8452; stroke: #333333\"/>\n     <use xlink:href=\"#mc5c59fbe31\" x=\"233.703348\" y=\"214.009359\" style=\"fill: #dd8452; stroke: #333333\"/>\n     <use xlink:href=\"#mc5c59fbe31\" x=\"95.318892\" y=\"76.234667\" style=\"fill: #dd8452; stroke: #333333\"/>\n     <use xlink:href=\"#mc5c59fbe31\" x=\"93.064547\" y=\"65.885309\" style=\"fill: #dd8452; stroke: #333333\"/>\n     <use xlink:href=\"#mc5c59fbe31\" x=\"256.572474\" y=\"216.841873\" style=\"fill: #dd8452; stroke: #333333\"/>\n     <use xlink:href=\"#mc5c59fbe31\" x=\"117.679607\" y=\"89.42047\" style=\"fill: #dd8452; stroke: #333333\"/>\n     <use xlink:href=\"#mc5c59fbe31\" x=\"79.412994\" y=\"68.335827\" style=\"fill: #dd8452; stroke: #333333\"/>\n     <use xlink:href=\"#mc5c59fbe31\" x=\"123.191141\" y=\"55.354434\" style=\"fill: #dd8452; stroke: #333333\"/>\n     <use xlink:href=\"#mc5c59fbe31\" x=\"96.488538\" y=\"58.286603\" style=\"fill: #dd8452; stroke: #333333\"/>\n     <use xlink:href=\"#mc5c59fbe31\" x=\"246.58417\" y=\"217.227509\" style=\"fill: #dd8452; stroke: #333333\"/>\n     <use xlink:href=\"#mc5c59fbe31\" x=\"216.198134\" y=\"196.626257\" style=\"fill: #dd8452; stroke: #333333\"/>\n    </g>\n   </g>\n   <g id=\"patch_3\">\n    <path d=\"M 59.024844 244.078125 \nL 59.024844 22.318125 \n\" style=\"fill: none; stroke: #ffffff; stroke-width: 1.25; stroke-linejoin: miter; stroke-linecap: square\"/>\n   </g>\n   <g id=\"patch_4\">\n    <path d=\"M 282.224844 244.078125 \nL 282.224844 22.318125 \n\" style=\"fill: none; stroke: #ffffff; stroke-width: 1.25; stroke-linejoin: miter; stroke-linecap: square\"/>\n   </g>\n   <g id=\"patch_5\">\n    <path d=\"M 59.024844 244.078125 \nL 282.224844 244.078125 \n\" style=\"fill: none; stroke: #ffffff; stroke-width: 1.25; stroke-linejoin: miter; stroke-linecap: square\"/>\n   </g>\n   <g id=\"patch_6\">\n    <path d=\"M 59.024844 22.318125 \nL 282.224844 22.318125 \n\" style=\"fill: none; stroke: #ffffff; stroke-width: 1.25; stroke-linejoin: miter; stroke-linecap: square\"/>\n   </g>\n   <g id=\"text_14\">\n    <!-- Dataset samples -->\n    <g style=\"fill: #262626\" transform=\"translate(120.282031 16.318125) scale(0.12 -0.12)\">\n     <defs>\n      <path id=\"DejaVuSans-44\" d=\"M 1259 4147 \nL 1259 519 \nL 2022 519 \nQ 2988 519 3436 956 \nQ 3884 1394 3884 2338 \nQ 3884 3275 3436 3711 \nQ 2988 4147 2022 4147 \nL 1259 4147 \nz\nM 628 4666 \nL 1925 4666 \nQ 3281 4666 3915 4102 \nQ 4550 3538 4550 2338 \nQ 4550 1131 3912 565 \nQ 3275 0 1925 0 \nL 628 0 \nL 628 4666 \nz\n\" transform=\"scale(0.015625)\"/>\n      <path id=\"DejaVuSans-61\" d=\"M 2194 1759 \nQ 1497 1759 1228 1600 \nQ 959 1441 959 1056 \nQ 959 750 1161 570 \nQ 1363 391 1709 391 \nQ 2188 391 2477 730 \nQ 2766 1069 2766 1631 \nL 2766 1759 \nL 2194 1759 \nz\nM 3341 1997 \nL 3341 0 \nL 2766 0 \nL 2766 531 \nQ 2569 213 2275 61 \nQ 1981 -91 1556 -91 \nQ 1019 -91 701 211 \nQ 384 513 384 1019 \nQ 384 1609 779 1909 \nQ 1175 2209 1959 2209 \nL 2766 2209 \nL 2766 2266 \nQ 2766 2663 2505 2880 \nQ 2244 3097 1772 3097 \nQ 1472 3097 1187 3025 \nQ 903 2953 641 2809 \nL 641 3341 \nQ 956 3463 1253 3523 \nQ 1550 3584 1831 3584 \nQ 2591 3584 2966 3190 \nQ 3341 2797 3341 1997 \nz\n\" transform=\"scale(0.015625)\"/>\n      <path id=\"DejaVuSans-74\" d=\"M 1172 4494 \nL 1172 3500 \nL 2356 3500 \nL 2356 3053 \nL 1172 3053 \nL 1172 1153 \nQ 1172 725 1289 603 \nQ 1406 481 1766 481 \nL 2356 481 \nL 2356 0 \nL 1766 0 \nQ 1100 0 847 248 \nQ 594 497 594 1153 \nL 594 3053 \nL 172 3053 \nL 172 3500 \nL 594 3500 \nL 594 4494 \nL 1172 4494 \nz\n\" transform=\"scale(0.015625)\"/>\n      <path id=\"DejaVuSans-73\" d=\"M 2834 3397 \nL 2834 2853 \nQ 2591 2978 2328 3040 \nQ 2066 3103 1784 3103 \nQ 1356 3103 1142 2972 \nQ 928 2841 928 2578 \nQ 928 2378 1081 2264 \nQ 1234 2150 1697 2047 \nL 1894 2003 \nQ 2506 1872 2764 1633 \nQ 3022 1394 3022 966 \nQ 3022 478 2636 193 \nQ 2250 -91 1575 -91 \nQ 1294 -91 989 -36 \nQ 684 19 347 128 \nL 347 722 \nQ 666 556 975 473 \nQ 1284 391 1588 391 \nQ 1994 391 2212 530 \nQ 2431 669 2431 922 \nQ 2431 1156 2273 1281 \nQ 2116 1406 1581 1522 \nL 1381 1569 \nQ 847 1681 609 1914 \nQ 372 2147 372 2553 \nQ 372 3047 722 3315 \nQ 1072 3584 1716 3584 \nQ 2034 3584 2315 3537 \nQ 2597 3491 2834 3397 \nz\n\" transform=\"scale(0.015625)\"/>\n      <path id=\"DejaVuSans-65\" d=\"M 3597 1894 \nL 3597 1613 \nL 953 1613 \nQ 991 1019 1311 708 \nQ 1631 397 2203 397 \nQ 2534 397 2845 478 \nQ 3156 559 3463 722 \nL 3463 178 \nQ 3153 47 2828 -22 \nQ 2503 -91 2169 -91 \nQ 1331 -91 842 396 \nQ 353 884 353 1716 \nQ 353 2575 817 3079 \nQ 1281 3584 2069 3584 \nQ 2775 3584 3186 3129 \nQ 3597 2675 3597 1894 \nz\nM 3022 2063 \nQ 3016 2534 2758 2815 \nQ 2500 3097 2075 3097 \nQ 1594 3097 1305 2825 \nQ 1016 2553 972 2059 \nL 3022 2063 \nz\n\" transform=\"scale(0.015625)\"/>\n      <path id=\"DejaVuSans-20\" transform=\"scale(0.015625)\"/>\n      <path id=\"DejaVuSans-6d\" d=\"M 3328 2828 \nQ 3544 3216 3844 3400 \nQ 4144 3584 4550 3584 \nQ 5097 3584 5394 3201 \nQ 5691 2819 5691 2113 \nL 5691 0 \nL 5113 0 \nL 5113 2094 \nQ 5113 2597 4934 2840 \nQ 4756 3084 4391 3084 \nQ 3944 3084 3684 2787 \nQ 3425 2491 3425 1978 \nL 3425 0 \nL 2847 0 \nL 2847 2094 \nQ 2847 2600 2669 2842 \nQ 2491 3084 2119 3084 \nQ 1678 3084 1418 2786 \nQ 1159 2488 1159 1978 \nL 1159 0 \nL 581 0 \nL 581 3500 \nL 1159 3500 \nL 1159 2956 \nQ 1356 3278 1631 3431 \nQ 1906 3584 2284 3584 \nQ 2666 3584 2933 3390 \nQ 3200 3197 3328 2828 \nz\n\" transform=\"scale(0.015625)\"/>\n      <path id=\"DejaVuSans-70\" d=\"M 1159 525 \nL 1159 -1331 \nL 581 -1331 \nL 581 3500 \nL 1159 3500 \nL 1159 2969 \nQ 1341 3281 1617 3432 \nQ 1894 3584 2278 3584 \nQ 2916 3584 3314 3078 \nQ 3713 2572 3713 1747 \nQ 3713 922 3314 415 \nQ 2916 -91 2278 -91 \nQ 1894 -91 1617 61 \nQ 1341 213 1159 525 \nz\nM 3116 1747 \nQ 3116 2381 2855 2742 \nQ 2594 3103 2138 3103 \nQ 1681 3103 1420 2742 \nQ 1159 2381 1159 1747 \nQ 1159 1113 1420 752 \nQ 1681 391 2138 391 \nQ 2594 391 2855 752 \nQ 3116 1113 3116 1747 \nz\n\" transform=\"scale(0.015625)\"/>\n      <path id=\"DejaVuSans-6c\" d=\"M 603 4863 \nL 1178 4863 \nL 1178 0 \nL 603 0 \nL 603 4863 \nz\n\" transform=\"scale(0.015625)\"/>\n     </defs>\n     <use xlink:href=\"#DejaVuSans-44\"/>\n     <use xlink:href=\"#DejaVuSans-61\" transform=\"translate(77.001953 0)\"/>\n     <use xlink:href=\"#DejaVuSans-74\" transform=\"translate(138.28125 0)\"/>\n     <use xlink:href=\"#DejaVuSans-61\" transform=\"translate(177.490234 0)\"/>\n     <use xlink:href=\"#DejaVuSans-73\" transform=\"translate(238.769531 0)\"/>\n     <use xlink:href=\"#DejaVuSans-65\" transform=\"translate(290.869141 0)\"/>\n     <use xlink:href=\"#DejaVuSans-74\" transform=\"translate(352.392578 0)\"/>\n     <use xlink:href=\"#DejaVuSans-20\" transform=\"translate(391.601562 0)\"/>\n     <use xlink:href=\"#DejaVuSans-73\" transform=\"translate(423.388672 0)\"/>\n     <use xlink:href=\"#DejaVuSans-61\" transform=\"translate(475.488281 0)\"/>\n     <use xlink:href=\"#DejaVuSans-6d\" transform=\"translate(536.767578 0)\"/>\n     <use xlink:href=\"#DejaVuSans-70\" transform=\"translate(634.179688 0)\"/>\n     <use xlink:href=\"#DejaVuSans-6c\" transform=\"translate(697.65625 0)\"/>\n     <use xlink:href=\"#DejaVuSans-65\" transform=\"translate(725.439453 0)\"/>\n     <use xlink:href=\"#DejaVuSans-73\" transform=\"translate(786.962891 0)\"/>\n    </g>\n   </g>\n  </g>\n </g>\n <defs>\n  <clipPath id=\"pf637281019\">\n   <rect x=\"59.024844\" y=\"22.318125\" width=\"223.2\" height=\"221.76\"/>\n  </clipPath>\n </defs>\n</svg>\n",
            "application/pdf": "[encoded data removed]"
          },
          "metadata": {}
        }
      ]
    },
    {
      "cell_type": "markdown",
      "source": [
        "Data loader класс"
      ],
      "metadata": {
        "id": "Q8_guKXt0TpB"
      }
    },
    {
      "cell_type": "code",
      "source": [
        "data_loader = data.DataLoader(dataset, batch_size=8, shuffle=True)"
      ],
      "metadata": {
        "id": "xAzDBH6q0Rxl"
      },
      "execution_count": 39,
      "outputs": []
    },
    {
      "cell_type": "code",
      "source": [
        "data_inputs, data_labels = next(iter(data_loader))\n",
        "# The shape of the outputs are [batch_size, d_1,...,d_N] where d_1,...,d_N are the\n",
        "# dimensions of the data point returned from the dataset class\n",
        "print(\"Data inputs\", data_inputs.shape, \"\\n\", data_inputs)\n",
        "print(\"Data labels\", data_labels.shape, \"\\n\", data_labels)"
      ],
      "metadata": {
        "colab": {
          "base_uri": "https://localhost:8080/"
        },
        "id": "SUDznGyo0R0v",
        "outputId": "5f4740fb-33c8-4012-9b9f-a1800d5c20e2"
      },
      "execution_count": 40,
      "outputs": [
        {
          "output_type": "stream",
          "name": "stdout",
          "text": [
            "Data inputs torch.Size([8, 2]) \n",
            " tensor([[ 0.9692,  0.0072],\n",
            "        [ 0.9221,  1.0758],\n",
            "        [ 0.0264, -0.0319],\n",
            "        [ 0.9381,  1.0959],\n",
            "        [ 0.9236,  1.2389],\n",
            "        [ 0.0389, -0.1386],\n",
            "        [ 1.0270, -0.1197],\n",
            "        [ 0.8955,  1.1699]])\n",
            "Data labels torch.Size([8]) \n",
            " tensor([1, 0, 0, 0, 0, 0, 1, 0])\n"
          ]
        }
      ]
    },
    {
      "cell_type": "markdown",
      "source": [
        "Стохастическая оптимизация\n",
        "\n",
        "После определения модели и набора данных, настало время выполнить оптимизацию модели. Во время тренировки, мы выполняем\n",
        "следующие шаги:\n",
        "1. Получаем пакет данных из загрузчика данных.\n",
        "2. Получаем предсказания модели для пакета данных.\n",
        "3. Вычисляем функцию потерь на основе разницы между предсказаниями и метками.\n",
        "4. Обратное распространение: вычисляем градиенты для каждого параметра относительно функции потерь.\n",
        "5. Обновляем параметры модели в направлении градиентов."
      ],
      "metadata": {
        "id": "PkyVdY_51PrK"
      }
    },
    {
      "cell_type": "markdown",
      "source": [
        "Функция ошибки"
      ],
      "metadata": {
        "id": "zLZkNkms1xZO"
      }
    },
    {
      "cell_type": "markdown",
      "source": [
        "![image.png](data:image/png;base64,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)\n"
      ],
      "metadata": {
        "id": "NWkbxeBP14rG"
      }
    },
    {
      "cell_type": "code",
      "source": [
        "loss_module = nn.BCEWithLogitsLoss()"
      ],
      "metadata": {
        "id": "8mhDHfy60R2d"
      },
      "execution_count": 41,
      "outputs": []
    },
    {
      "cell_type": "markdown",
      "source": [
        "Стохастический градиентный спуск"
      ],
      "metadata": {
        "id": "hZDFRq9e2QMG"
      }
    },
    {
      "cell_type": "code",
      "source": [
        "# Input to the optimizer are the parameters of the model: model.parameters()\n",
        "optimizer = torch.optim.SGD(model.parameters(), lr=0.1)"
      ],
      "metadata": {
        "id": "LM6TmMiM0R_2"
      },
      "execution_count": 42,
      "outputs": []
    },
    {
      "cell_type": "markdown",
      "source": [
        "Обучение"
      ],
      "metadata": {
        "id": "nkmaxCLz2zAe"
      }
    },
    {
      "cell_type": "code",
      "source": [
        "train_dataset = XORDataset(size=2500)\n",
        "train_data_loader = data.DataLoader(train_dataset, batch_size=128, shuffle=True)"
      ],
      "metadata": {
        "id": "2ApziZWy2Q24"
      },
      "execution_count": 43,
      "outputs": []
    },
    {
      "cell_type": "code",
      "source": [
        "# Push model to device. Has to be only done once\n",
        "model.to(device)"
      ],
      "metadata": {
        "colab": {
          "base_uri": "https://localhost:8080/"
        },
        "id": "-i98l7yU2Q5Y",
        "outputId": "75138975-5cd2-48ab-aa8b-42837245a20b"
      },
      "execution_count": 44,
      "outputs": [
        {
          "output_type": "execute_result",
          "data": {
            "text/plain": [
              "SimpleClassifier(\n",
              "  (linear1): Linear(in_features=2, out_features=1, bias=True)\n",
              ")"
            ]
          },
          "metadata": {},
          "execution_count": 44
        }
      ]
    },
    {
      "cell_type": "code",
      "source": [
        "def train_model(model, optimizer, data_loader, loss_module, num_epochs=100):\n",
        "  # Set model to train mode\n",
        "  model.train()\n",
        "  # Training loop\n",
        "  for epoch in tqdm(range(num_epochs)):\n",
        "    for data_inputs, data_labels in data_loader:\n",
        "      ## Step 1: Move input data to device (only strictly necessary if we use GPU)\n",
        "      data_inputs = data_inputs.to(device)\n",
        "      data_labels = data_labels.to(device)\n",
        "      ## Step 2: Run the model on the input data\n",
        "      preds = model(data_inputs)\n",
        "      preds = preds.squeeze(dim=1) # Output is [Batch size, 1], but we want [Batch size]\n",
        "      ## Step 3: Calculate the loss\n",
        "      loss = loss_module(preds, data_labels.float())\n",
        "      ## Step 4: Perform backpropagation\n",
        "      # Before calculating the gradients, we need to ensure that they are all zero.\n",
        "      # The gradients would not be overwritten, but actually added to the existing ones.\n",
        "      optimizer.zero_grad()\n",
        "      # Perform backpropagation\n",
        "      loss.backward()\n",
        "      ## Step 5: Update the parameters\n",
        "      optimizer.step()"
      ],
      "metadata": {
        "id": "T0vUjw2y2Q9L"
      },
      "execution_count": 45,
      "outputs": []
    },
    {
      "cell_type": "code",
      "source": [
        "train_model(model, optimizer, train_data_loader, loss_module)"
      ],
      "metadata": {
        "colab": {
          "base_uri": "https://localhost:8080/",
          "height": 49,
          "referenced_widgets": [
            "341246a5a42046a4a32592130f4132d3",
            "08b9e92e035e47a29740e2e2f665cd74",
            "3d2c4a0d26b445e5bd2f54797129f8a2",
            "ba4df76cf411469abfe9a718f77229e5",
            "c797db3567e142c0b69f4b710d88a719",
            "f8ff790f5d764c949461be4b743537c9",
            "dd15a8fddec244b898ae928da9336511",
            "00c0eac64ef24a0487d623ad4911ab95",
            "c707ba9c73be47738dbd896c178ee70a",
            "4060a6f0034a421280a3829ad55923f2",
            "b885d4ddfa1344c1b099922becc6b49d"
          ]
        },
        "id": "UOOT-JfH0SCC",
        "outputId": "aecd48cf-b44f-4f06-df4f-e3a762a6e7fc"
      },
      "execution_count": 46,
      "outputs": [
        {
          "output_type": "display_data",
          "data": {
            "text/plain": [
              "  0%|          | 0/100 [00:00<?, ?it/s]"
            ],
            "application/vnd.jupyter.widget-view+json": {
              "version_major": 2,
              "version_minor": 0,
              "model_id": "341246a5a42046a4a32592130f4132d3"
            }
          },
          "metadata": {}
        }
      ]
    },
    {
      "cell_type": "markdown",
      "source": [
        "Сохранение модели"
      ],
      "metadata": {
        "id": "E1lyt2tc32T1"
      }
    },
    {
      "cell_type": "code",
      "source": [
        "state_dict = model.state_dict()\n",
        "print(state_dict)"
      ],
      "metadata": {
        "colab": {
          "base_uri": "https://localhost:8080/"
        },
        "id": "WsRsB1Mg30rp",
        "outputId": "bb1a9a06-0430-4e0a-9bad-b6996d421622"
      },
      "execution_count": 47,
      "outputs": [
        {
          "output_type": "stream",
          "name": "stdout",
          "text": [
            "OrderedDict([('linear1.weight', tensor([[-0.0628, -0.0229]], device='cuda:0')), ('linear1.bias', tensor([0.0580], device='cuda:0'))])\n"
          ]
        }
      ]
    },
    {
      "cell_type": "code",
      "source": [
        "# torch.save(object, filename). For the filename, any extension can be used\n",
        "torch.save(state_dict, \"our_model.pth\")"
      ],
      "metadata": {
        "id": "2qTv9WfS4ADi"
      },
      "execution_count": 48,
      "outputs": []
    },
    {
      "cell_type": "code",
      "source": [
        "# Load state dict from the disk (make sure it is the same name as above)\n",
        "state_dict = torch.load(\"our_model.pth\")\n",
        "# Create a new model and load the state\n",
        "new_model = SimpleClassifier(num_inputs=2, num_outputs=1)\n",
        "new_model.load_state_dict(state_dict)\n",
        "# Verify that the parameters are the same\n",
        "print(\"Original model\\n\", model.state_dict())\n",
        "print(\"\\nLoaded model\\n\", new_model.state_dict())"
      ],
      "metadata": {
        "colab": {
          "base_uri": "https://localhost:8080/"
        },
        "id": "6_VWkcXI4IJF",
        "outputId": "ac9e9b79-0dbe-4414-b5c9-2266640264cf"
      },
      "execution_count": 49,
      "outputs": [
        {
          "output_type": "stream",
          "name": "stdout",
          "text": [
            "Original model\n",
            " OrderedDict([('linear1.weight', tensor([[-0.0628, -0.0229]], device='cuda:0')), ('linear1.bias', tensor([0.0580], device='cuda:0'))])\n",
            "\n",
            "Loaded model\n",
            " OrderedDict([('linear1.weight', tensor([[-0.0628, -0.0229]])), ('linear1.bias', tensor([0.0580]))])\n"
          ]
        },
        {
          "output_type": "stream",
          "name": "stderr",
          "text": [
            "<ipython-input-49-b4862e24f7ce>:2: FutureWarning: You are using `torch.load` with `weights_only=False` (the current default value), which uses the default pickle module implicitly. It is possible to construct malicious pickle data which will execute arbitrary code during unpickling (See https://github.com/pytorch/pytorch/blob/main/SECURITY.md#untrusted-models for more details). In a future release, the default value for `weights_only` will be flipped to `True`. This limits the functions that could be executed during unpickling. Arbitrary objects will no longer be allowed to be loaded via this mode unless they are explicitly allowlisted by the user via `torch.serialization.add_safe_globals`. We recommend you start setting `weights_only=True` for any use case where you don't have full control of the loaded file. Please open an issue on GitHub for any issues related to this experimental feature.\n",
            "  state_dict = torch.load(\"our_model.pth\")\n"
          ]
        }
      ]
    },
    {
      "cell_type": "markdown",
      "source": [
        "Оценка качества"
      ],
      "metadata": {
        "id": "4qkyb7wB4Q5p"
      }
    },
    {
      "cell_type": "code",
      "source": [
        "test_dataset = XORDataset(size=500)\n",
        "# drop_last -> Don't drop the last batch although it is smaller than 128\n",
        "test_data_loader = data.DataLoader(test_dataset, batch_size=128, shuffle=False, drop_last=False)"
      ],
      "metadata": {
        "id": "122I1KW54OIe"
      },
      "execution_count": 50,
      "outputs": []
    },
    {
      "cell_type": "code",
      "source": [
        "def eval_model(model, data_loader):\n",
        "  model.eval() # Set model to eval mode\n",
        "  true_preds, num_preds = 0., 0.\n",
        "  with torch.no_grad(): # Deactivate gradients for the following code\n",
        "    for data_inputs, data_labels in data_loader:\n",
        "      # Determine prediction of model on dev set\n",
        "      data_inputs, data_labels = data_inputs.to(device), data_labels.to(device)\n",
        "      preds = model(data_inputs)\n",
        "      preds = preds.squeeze(dim=1)\n",
        "      preds = torch.sigmoid(preds) # Sigmoid to map predictions between 0 and 1\n",
        "      pred_labels = (preds >= 0.5).long() # Binarize predictions to 0 and 1\n",
        "      # Keep records of predictions for the accuracy metric (true_preds=TP+TN, num_preds=TP+TN+FP+FN)\n",
        "      true_preds += (pred_labels == data_labels).sum()\n",
        "      num_preds += data_labels.shape[0]\n",
        "  acc = true_preds / num_preds\n",
        "  print(f\"Accuracy of the model: {100.0*acc:4.2f}%\")"
      ],
      "metadata": {
        "id": "x1ib08ml4nI1"
      },
      "execution_count": 51,
      "outputs": []
    },
    {
      "cell_type": "code",
      "source": [
        "eval_model(model, test_data_loader)"
      ],
      "metadata": {
        "colab": {
          "base_uri": "https://localhost:8080/"
        },
        "id": "aR11JP_B4nKO",
        "outputId": "a41095ab-d97b-4166-a1b2-4b25d7060568"
      },
      "execution_count": 52,
      "outputs": [
        {
          "output_type": "stream",
          "name": "stdout",
          "text": [
            "Accuracy of the model: 58.40%\n"
          ]
        }
      ]
    },
    {
      "cell_type": "code",
      "source": [
        "@torch.no_grad() # Decorator, same effect as \"with torch.no_grad(): ...\" over the whole function.\n",
        "def visualize_classification(model, data, label):\n",
        "  if isinstance(data, torch.Tensor):\n",
        "    data = data.cpu().numpy()\n",
        "  if isinstance(label, torch.Tensor):\n",
        "    label = label.cpu().numpy()\n",
        "  data_0 = data[label == 0]\n",
        "  data_1 = data[label == 1]\n",
        "  fig = plt.figure(figsize=(4,4), dpi=500)\n",
        "  plt.scatter(data_0[:,0], data_0[:,1], edgecolor=\"#333\", label=\"Class 0\")\n",
        "  plt.scatter(data_1[:,0], data_1[:,1], edgecolor=\"#333\", label=\"Class 1\")\n",
        "  plt.title(\"Dataset samples\")\n",
        "  plt.ylabel(r\"$x_2$\")\n",
        "  plt.xlabel(r\"$x_1$\")\n",
        "  plt.legend()\n",
        "  # Let's make use of a lot of operations we have learned above\n",
        "  model.to(device)\n",
        "  c0 = torch.Tensor(to_rgba(\"C0\")).to(device)\n",
        "  c1 = torch.Tensor(to_rgba(\"C1\")).to(device)\n",
        "  x1 = torch.arange(-0.5, 1.5, step=0.01, device=device)\n",
        "  x2 = torch.arange(-0.5, 1.5, step=0.01, device=device)\n",
        "  xx1, xx2 = torch.meshgrid(x1, x2, indexing='ij') # Meshgrid function as in numpy\n",
        "  model_inputs = torch.stack([xx1, xx2], dim=-1)\n",
        "  preds = model(model_inputs)\n",
        "  preds = torch.sigmoid(preds)\n",
        "  output_image = (1 - preds) * c0[None,None] + preds * c1[None,None] # Specifying \"None\" in a dimension creates a new one\n",
        "  output_image = output_image.cpu().numpy() # Convert to numpy array. This only works for tensors on CPU, hence first push to CPU\n",
        "  plt.imshow(output_image, origin='lower', extent=(-0.5, 1.5, -0.5, 1.5))\n",
        "  plt.grid(False)\n",
        "  return fig"
      ],
      "metadata": {
        "id": "rWvFzwoe4nL1"
      },
      "execution_count": 53,
      "outputs": []
    },
    {
      "cell_type": "code",
      "source": [
        "_ = visualize_classification(model, dataset.data, dataset.label)\n",
        "plt.show()"
      ],
      "metadata": {
        "id": "We9IifjW5UFy",
        "colab": {
          "base_uri": "https://localhost:8080/",
          "height": 404
        },
        "outputId": "3fa0a2a0-1967-489e-dcfc-17faa33a50ca"
      },
      "execution_count": 54,
      "outputs": [
        {
          "output_type": "display_data",
          "data": {
            "text/plain": [
              "<Figure size 2000x2000 with 1 Axes>"
            ],
            "image/svg+xml": "<?xml version=\"1.0\" encoding=\"utf-8\" standalone=\"no\"?>\n<!DOCTYPE svg PUBLIC \"-//W3C//DTD SVG 1.1//EN\"\n  \"http://www.w3.org/Graphics/SVG/1.1/DTD/svg11.dtd\">\n<svg xmlns:xlink=\"http://www.w3.org/1999/xlink\" width=\"303.730313pt\" height=\"287.037813pt\" viewBox=\"0 0 303.730313 287.037813\" xmlns=\"http://www.w3.org/2000/svg\" version=\"1.1\">\n <metadata>\n  <rdf:RDF xmlns:dc=\"http://purl.org/dc/elements/1.1/\" xmlns:cc=\"http://creativecommons.org/ns#\" xmlns:rdf=\"http://www.w3.org/1999/02/22-rdf-syntax-ns#\">\n   <cc:Work>\n    <dc:type rdf:resource=\"http://purl.org/dc/dcmitype/StillImage\"/>\n    <dc:date>2025-02-21T15:38:12.253849</dc:date>\n    <dc:format>image/svg+xml</dc:format>\n    <dc:creator>\n     <cc:Agent>\n      <dc:title>Matplotlib v3.10.0, https://matplotlib.org/</dc:title>\n     </cc:Agent>\n    </dc:creator>\n   </cc:Work>\n  </rdf:RDF>\n </metadata>\n <defs>\n  <style type=\"text/css\">*{stroke-linejoin: round; stroke-linecap: butt}</style>\n </defs>\n <g id=\"figure_1\">\n  <g id=\"patch_1\">\n   <path d=\"M 0 287.037813 \nL 303.730313 287.037813 \nL 303.730313 0 \nL 0 0 \nz\n\" style=\"fill: #ffffff\"/>\n  </g>\n  <g id=\"axes_1\">\n   <g id=\"patch_2\">\n    <path d=\"M 66.023594 244.078125 \nL 287.783594 244.078125 \nL 287.783594 22.318125 \nL 66.023594 22.318125 \nz\n\" style=\"fill: #eaeaf2\"/>\n   </g>\n   <g clip-path=\"url(#p2b54b905aa)\">\n    <image xlink:href=\"data:image/png;base64,\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\" id=\"image9f8560810c\" transform=\"scale(1 -1) translate(0 -221.904)\" x=\"66.023594\" y=\"-22.174125\" width=\"221.904\" height=\"221.904\"/>\n   </g>\n   <g id=\"matplotlib.axis_1\">\n    <g id=\"xtick_1\">\n     <g id=\"text_1\">\n      <!-- −0.5 -->\n      <g style=\"fill: #262626\" transform=\"translate(52.668047 261.936406) scale(0.11 -0.11)\">\n       <defs>\n        <path id=\"DejaVuSans-2212\" d=\"M 678 2272 \nL 4684 2272 \nL 4684 1741 \nL 678 1741 \nL 678 2272 \nz\n\" transform=\"scale(0.015625)\"/>\n        <path id=\"DejaVuSans-30\" d=\"M 2034 4250 \nQ 1547 4250 1301 3770 \nQ 1056 3291 1056 2328 \nQ 1056 1369 1301 889 \nQ 1547 409 2034 409 \nQ 2525 409 2770 889 \nQ 3016 1369 3016 2328 \nQ 3016 3291 2770 3770 \nQ 2525 4250 2034 4250 \nz\nM 2034 4750 \nQ 2819 4750 3233 4129 \nQ 3647 3509 3647 2328 \nQ 3647 1150 3233 529 \nQ 2819 -91 2034 -91 \nQ 1250 -91 836 529 \nQ 422 1150 422 2328 \nQ 422 3509 836 4129 \nQ 1250 4750 2034 4750 \nz\n\" transform=\"scale(0.015625)\"/>\n        <path id=\"DejaVuSans-2e\" d=\"M 684 794 \nL 1344 794 \nL 1344 0 \nL 684 0 \nL 684 794 \nz\n\" transform=\"scale(0.015625)\"/>\n        <path id=\"DejaVuSans-35\" d=\"M 691 4666 \nL 3169 4666 \nL 3169 4134 \nL 1269 4134 \nL 1269 2991 \nQ 1406 3038 1543 3061 \nQ 1681 3084 1819 3084 \nQ 2600 3084 3056 2656 \nQ 3513 2228 3513 1497 \nQ 3513 744 3044 326 \nQ 2575 -91 1722 -91 \nQ 1428 -91 1123 -41 \nQ 819 9 494 109 \nL 494 744 \nQ 775 591 1075 516 \nQ 1375 441 1709 441 \nQ 2250 441 2565 725 \nQ 2881 1009 2881 1497 \nQ 2881 1984 2565 2268 \nQ 2250 2553 1709 2553 \nQ 1456 2553 1204 2497 \nQ 953 2441 691 2322 \nL 691 4666 \nz\n\" transform=\"scale(0.015625)\"/>\n       </defs>\n       <use xlink:href=\"#DejaVuSans-2212\"/>\n       <use xlink:href=\"#DejaVuSans-30\" transform=\"translate(83.789062 0)\"/>\n       <use xlink:href=\"#DejaVuSans-2e\" transform=\"translate(147.412109 0)\"/>\n       <use xlink:href=\"#DejaVuSans-35\" transform=\"translate(179.199219 0)\"/>\n      </g>\n     </g>\n    </g>\n    <g id=\"xtick_2\">\n     <g id=\"text_2\">\n      <!-- 0.0 -->\n      <g style=\"fill: #262626\" transform=\"translate(112.716875 261.936406) scale(0.11 -0.11)\">\n       <use xlink:href=\"#DejaVuSans-30\"/>\n       <use xlink:href=\"#DejaVuSans-2e\" transform=\"translate(63.623047 0)\"/>\n       <use xlink:href=\"#DejaVuSans-30\" transform=\"translate(95.410156 0)\"/>\n      </g>\n     </g>\n    </g>\n    <g id=\"xtick_3\">\n     <g id=\"text_3\">\n      <!-- 0.5 -->\n      <g style=\"fill: #262626\" transform=\"translate(168.156875 261.936406) scale(0.11 -0.11)\">\n       <use xlink:href=\"#DejaVuSans-30\"/>\n       <use xlink:href=\"#DejaVuSans-2e\" transform=\"translate(63.623047 0)\"/>\n       <use xlink:href=\"#DejaVuSans-35\" transform=\"translate(95.410156 0)\"/>\n      </g>\n     </g>\n    </g>\n    <g id=\"xtick_4\">\n     <g id=\"text_4\">\n      <!-- 1.0 -->\n      <g style=\"fill: #262626\" transform=\"translate(223.596875 261.936406) scale(0.11 -0.11)\">\n       <defs>\n        <path id=\"DejaVuSans-31\" d=\"M 794 531 \nL 1825 531 \nL 1825 4091 \nL 703 3866 \nL 703 4441 \nL 1819 4666 \nL 2450 4666 \nL 2450 531 \nL 3481 531 \nL 3481 0 \nL 794 0 \nL 794 531 \nz\n\" transform=\"scale(0.015625)\"/>\n       </defs>\n       <use xlink:href=\"#DejaVuSans-31\"/>\n       <use xlink:href=\"#DejaVuSans-2e\" transform=\"translate(63.623047 0)\"/>\n       <use xlink:href=\"#DejaVuSans-30\" transform=\"translate(95.410156 0)\"/>\n      </g>\n     </g>\n    </g>\n    <g id=\"xtick_5\">\n     <g id=\"text_5\">\n      <!-- 1.5 -->\n      <g style=\"fill: #262626\" transform=\"translate(279.036875 261.936406) scale(0.11 -0.11)\">\n       <use xlink:href=\"#DejaVuSans-31\"/>\n       <use xlink:href=\"#DejaVuSans-2e\" transform=\"translate(63.623047 0)\"/>\n       <use xlink:href=\"#DejaVuSans-35\" transform=\"translate(95.410156 0)\"/>\n      </g>\n     </g>\n    </g>\n    <g id=\"text_6\">\n     <!-- $x_1$ -->\n     <g style=\"fill: #262626\" transform=\"translate(170.483594 277.342188) scale(0.12 -0.12)\">\n      <defs>\n       <path id=\"DejaVuSans-Oblique-78\" d=\"M 3841 3500 \nL 2234 1784 \nL 3219 0 \nL 2559 0 \nL 1819 1388 \nL 531 0 \nL -166 0 \nL 1556 1844 \nL 641 3500 \nL 1300 3500 \nL 1972 2234 \nL 3144 3500 \nL 3841 3500 \nz\n\" transform=\"scale(0.015625)\"/>\n      </defs>\n      <use xlink:href=\"#DejaVuSans-Oblique-78\" transform=\"translate(0 0.3125)\"/>\n      <use xlink:href=\"#DejaVuSans-31\" transform=\"translate(59.179688 -16.09375) scale(0.7)\"/>\n     </g>\n    </g>\n   </g>\n   <g id=\"matplotlib.axis_2\">\n    <g id=\"ytick_1\">\n     <g id=\"text_7\">\n      <!-- −0.50 -->\n      <g style=\"fill: #262626\" transform=\"translate(22.81375 248.257266) scale(0.11 -0.11)\">\n       <use xlink:href=\"#DejaVuSans-2212\"/>\n       <use xlink:href=\"#DejaVuSans-30\" transform=\"translate(83.789062 0)\"/>\n       <use xlink:href=\"#DejaVuSans-2e\" transform=\"translate(147.412109 0)\"/>\n       <use xlink:href=\"#DejaVuSans-35\" transform=\"translate(179.199219 0)\"/>\n       <use xlink:href=\"#DejaVuSans-30\" transform=\"translate(242.822266 0)\"/>\n      </g>\n     </g>\n    </g>\n    <g id=\"ytick_2\">\n     <g id=\"text_8\">\n      <!-- −0.25 -->\n      <g style=\"fill: #262626\" transform=\"translate(22.81375 220.537266) scale(0.11 -0.11)\">\n       <defs>\n        <path id=\"DejaVuSans-32\" d=\"M 1228 531 \nL 3431 531 \nL 3431 0 \nL 469 0 \nL 469 531 \nQ 828 903 1448 1529 \nQ 2069 2156 2228 2338 \nQ 2531 2678 2651 2914 \nQ 2772 3150 2772 3378 \nQ 2772 3750 2511 3984 \nQ 2250 4219 1831 4219 \nQ 1534 4219 1204 4116 \nQ 875 4013 500 3803 \nL 500 4441 \nQ 881 4594 1212 4672 \nQ 1544 4750 1819 4750 \nQ 2544 4750 2975 4387 \nQ 3406 4025 3406 3419 \nQ 3406 3131 3298 2873 \nQ 3191 2616 2906 2266 \nQ 2828 2175 2409 1742 \nQ 1991 1309 1228 531 \nz\n\" transform=\"scale(0.015625)\"/>\n       </defs>\n       <use xlink:href=\"#DejaVuSans-2212\"/>\n       <use xlink:href=\"#DejaVuSans-30\" transform=\"translate(83.789062 0)\"/>\n       <use xlink:href=\"#DejaVuSans-2e\" transform=\"translate(147.412109 0)\"/>\n       <use xlink:href=\"#DejaVuSans-32\" transform=\"translate(179.199219 0)\"/>\n       <use xlink:href=\"#DejaVuSans-35\" transform=\"translate(242.822266 0)\"/>\n      </g>\n     </g>\n    </g>\n    <g id=\"ytick_3\">\n     <g id=\"text_9\">\n      <!-- 0.00 -->\n      <g style=\"fill: #262626\" transform=\"translate(32.031406 192.817266) scale(0.11 -0.11)\">\n       <use xlink:href=\"#DejaVuSans-30\"/>\n       <use xlink:href=\"#DejaVuSans-2e\" transform=\"translate(63.623047 0)\"/>\n       <use xlink:href=\"#DejaVuSans-30\" transform=\"translate(95.410156 0)\"/>\n       <use xlink:href=\"#DejaVuSans-30\" transform=\"translate(159.033203 0)\"/>\n      </g>\n     </g>\n    </g>\n    <g id=\"ytick_4\">\n     <g id=\"text_10\">\n      <!-- 0.25 -->\n      <g style=\"fill: #262626\" transform=\"translate(32.031406 165.097266) scale(0.11 -0.11)\">\n       <use xlink:href=\"#DejaVuSans-30\"/>\n       <use xlink:href=\"#DejaVuSans-2e\" transform=\"translate(63.623047 0)\"/>\n       <use xlink:href=\"#DejaVuSans-32\" transform=\"translate(95.410156 0)\"/>\n       <use xlink:href=\"#DejaVuSans-35\" transform=\"translate(159.033203 0)\"/>\n      </g>\n     </g>\n    </g>\n    <g id=\"ytick_5\">\n     <g id=\"text_11\">\n      <!-- 0.50 -->\n      <g style=\"fill: #262626\" transform=\"translate(32.031406 137.377266) scale(0.11 -0.11)\">\n       <use xlink:href=\"#DejaVuSans-30\"/>\n       <use xlink:href=\"#DejaVuSans-2e\" transform=\"translate(63.623047 0)\"/>\n       <use xlink:href=\"#DejaVuSans-35\" transform=\"translate(95.410156 0)\"/>\n       <use xlink:href=\"#DejaVuSans-30\" transform=\"translate(159.033203 0)\"/>\n      </g>\n     </g>\n    </g>\n    <g id=\"ytick_6\">\n     <g id=\"text_12\">\n      <!-- 0.75 -->\n      <g style=\"fill: #262626\" transform=\"translate(32.031406 109.657266) scale(0.11 -0.11)\">\n       <defs>\n        <path id=\"DejaVuSans-37\" d=\"M 525 4666 \nL 3525 4666 \nL 3525 4397 \nL 1831 0 \nL 1172 0 \nL 2766 4134 \nL 525 4134 \nL 525 4666 \nz\n\" transform=\"scale(0.015625)\"/>\n       </defs>\n       <use xlink:href=\"#DejaVuSans-30\"/>\n       <use xlink:href=\"#DejaVuSans-2e\" transform=\"translate(63.623047 0)\"/>\n       <use xlink:href=\"#DejaVuSans-37\" transform=\"translate(95.410156 0)\"/>\n       <use xlink:href=\"#DejaVuSans-35\" transform=\"translate(159.033203 0)\"/>\n      </g>\n     </g>\n    </g>\n    <g id=\"ytick_7\">\n     <g id=\"text_13\">\n      <!-- 1.00 -->\n      <g style=\"fill: #262626\" transform=\"translate(32.031406 81.937266) scale(0.11 -0.11)\">\n       <use xlink:href=\"#DejaVuSans-31\"/>\n       <use xlink:href=\"#DejaVuSans-2e\" transform=\"translate(63.623047 0)\"/>\n       <use xlink:href=\"#DejaVuSans-30\" transform=\"translate(95.410156 0)\"/>\n       <use xlink:href=\"#DejaVuSans-30\" transform=\"translate(159.033203 0)\"/>\n      </g>\n     </g>\n    </g>\n    <g id=\"ytick_8\">\n     <g id=\"text_14\">\n      <!-- 1.25 -->\n      <g style=\"fill: #262626\" transform=\"translate(32.031406 54.217266) scale(0.11 -0.11)\">\n       <use xlink:href=\"#DejaVuSans-31\"/>\n       <use xlink:href=\"#DejaVuSans-2e\" transform=\"translate(63.623047 0)\"/>\n       <use xlink:href=\"#DejaVuSans-32\" transform=\"translate(95.410156 0)\"/>\n       <use xlink:href=\"#DejaVuSans-35\" transform=\"translate(159.033203 0)\"/>\n      </g>\n     </g>\n    </g>\n    <g id=\"ytick_9\">\n     <g id=\"text_15\">\n      <!-- 1.50 -->\n      <g style=\"fill: #262626\" transform=\"translate(32.031406 26.497266) scale(0.11 -0.11)\">\n       <use xlink:href=\"#DejaVuSans-31\"/>\n       <use xlink:href=\"#DejaVuSans-2e\" transform=\"translate(63.623047 0)\"/>\n       <use xlink:href=\"#DejaVuSans-35\" transform=\"translate(95.410156 0)\"/>\n       <use xlink:href=\"#DejaVuSans-30\" transform=\"translate(159.033203 0)\"/>\n      </g>\n     </g>\n    </g>\n    <g id=\"text_16\">\n     <!-- $x_2$ -->\n     <g style=\"fill: #262626\" transform=\"translate(16.318125 139.618125) rotate(-90) scale(0.12 -0.12)\">\n      <use xlink:href=\"#DejaVuSans-Oblique-78\" transform=\"translate(0 0.3125)\"/>\n      <use xlink:href=\"#DejaVuSans-32\" transform=\"translate(59.179688 -16.09375) scale(0.7)\"/>\n     </g>\n    </g>\n   </g>\n   <g id=\"PathCollection_1\">\n    <defs>\n     <path id=\"m59d0a7e442\" d=\"M 0 3 \nC 0.795609 3 1.55874 2.683901 2.12132 2.12132 \nC 2.683901 1.55874 3 0.795609 3 0 \nC 3 -0.795609 2.683901 -1.55874 2.12132 -2.12132 \nC 1.55874 -2.683901 0.795609 -3 0 -3 \nC -0.795609 -3 -1.55874 -2.683901 -2.12132 -2.12132 \nC -2.683901 -1.55874 -3 -0.795609 -3 0 \nC -3 0.795609 -2.683901 1.55874 -2.12132 2.12132 \nC -1.55874 2.683901 -0.795609 3 0 3 \nz\n\" style=\"stroke: #333333\"/>\n    </defs>\n    <g clip-path=\"url(#p2b54b905aa)\">\n     <use xlink:href=\"#m59d0a7e442\" x=\"238.870989\" y=\"83.578592\" style=\"fill: #4c72b0; stroke: #333333\"/>\n     <use xlink:href=\"#m59d0a7e442\" x=\"219.276947\" y=\"102.928592\" style=\"fill: #4c72b0; stroke: #333333\"/>\n     <use xlink:href=\"#m59d0a7e442\" x=\"224.676238\" y=\"89.33077\" style=\"fill: #4c72b0; stroke: #333333\"/>\n     <use xlink:href=\"#m59d0a7e442\" x=\"239.5501\" y=\"83.223024\" style=\"fill: #4c72b0; stroke: #333333\"/>\n     <use xlink:href=\"#m59d0a7e442\" x=\"223.248418\" y=\"74.245448\" style=\"fill: #4c72b0; stroke: #333333\"/>\n     <use xlink:href=\"#m59d0a7e442\" x=\"120.695671\" y=\"186.220054\" style=\"fill: #4c72b0; stroke: #333333\"/>\n     <use xlink:href=\"#m59d0a7e442\" x=\"229.210939\" y=\"80.846467\" style=\"fill: #4c72b0; stroke: #333333\"/>\n     <use xlink:href=\"#m59d0a7e442\" x=\"223.874796\" y=\"51.269296\" style=\"fill: #4c72b0; stroke: #333333\"/>\n     <use xlink:href=\"#m59d0a7e442\" x=\"125.781174\" y=\"204.006943\" style=\"fill: #4c72b0; stroke: #333333\"/>\n     <use xlink:href=\"#m59d0a7e442\" x=\"124.703962\" y=\"195.632543\" style=\"fill: #4c72b0; stroke: #333333\"/>\n     <use xlink:href=\"#m59d0a7e442\" x=\"100.448299\" y=\"183.1958\" style=\"fill: #4c72b0; stroke: #333333\"/>\n     <use xlink:href=\"#m59d0a7e442\" x=\"237.866744\" y=\"77.971621\" style=\"fill: #4c72b0; stroke: #333333\"/>\n     <use xlink:href=\"#m59d0a7e442\" x=\"229.178204\" y=\"72.24781\" style=\"fill: #4c72b0; stroke: #333333\"/>\n     <use xlink:href=\"#m59d0a7e442\" x=\"118.830882\" y=\"195.237069\" style=\"fill: #4c72b0; stroke: #333333\"/>\n     <use xlink:href=\"#m59d0a7e442\" x=\"233.592701\" y=\"73.960007\" style=\"fill: #4c72b0; stroke: #333333\"/>\n     <use xlink:href=\"#m59d0a7e442\" x=\"126.476472\" y=\"191.830507\" style=\"fill: #4c72b0; stroke: #333333\"/>\n     <use xlink:href=\"#m59d0a7e442\" x=\"233.182681\" y=\"71.469155\" style=\"fill: #4c72b0; stroke: #333333\"/>\n     <use xlink:href=\"#m59d0a7e442\" x=\"234.007612\" y=\"81.203662\" style=\"fill: #4c72b0; stroke: #333333\"/>\n     <use xlink:href=\"#m59d0a7e442\" x=\"229.300794\" y=\"77.31962\" style=\"fill: #4c72b0; stroke: #333333\"/>\n     <use xlink:href=\"#m59d0a7e442\" x=\"119.058898\" y=\"201.723884\" style=\"fill: #4c72b0; stroke: #333333\"/>\n     <use xlink:href=\"#m59d0a7e442\" x=\"115.036046\" y=\"179.56279\" style=\"fill: #4c72b0; stroke: #333333\"/>\n     <use xlink:href=\"#m59d0a7e442\" x=\"244.567215\" y=\"103.875214\" style=\"fill: #4c72b0; stroke: #333333\"/>\n     <use xlink:href=\"#m59d0a7e442\" x=\"247.40353\" y=\"98.203633\" style=\"fill: #4c72b0; stroke: #333333\"/>\n     <use xlink:href=\"#m59d0a7e442\" x=\"224.452657\" y=\"78.431175\" style=\"fill: #4c72b0; stroke: #333333\"/>\n     <use xlink:href=\"#m59d0a7e442\" x=\"124.64874\" y=\"205.182269\" style=\"fill: #4c72b0; stroke: #333333\"/>\n     <use xlink:href=\"#m59d0a7e442\" x=\"246.730156\" y=\"57.133746\" style=\"fill: #4c72b0; stroke: #333333\"/>\n     <use xlink:href=\"#m59d0a7e442\" x=\"254.083037\" y=\"84.585957\" style=\"fill: #4c72b0; stroke: #333333\"/>\n     <use xlink:href=\"#m59d0a7e442\" x=\"135.173042\" y=\"172.172485\" style=\"fill: #4c72b0; stroke: #333333\"/>\n     <use xlink:href=\"#m59d0a7e442\" x=\"226.493082\" y=\"56.901864\" style=\"fill: #4c72b0; stroke: #333333\"/>\n     <use xlink:href=\"#m59d0a7e442\" x=\"123.469055\" y=\"187.386303\" style=\"fill: #4c72b0; stroke: #333333\"/>\n     <use xlink:href=\"#m59d0a7e442\" x=\"225.813106\" y=\"72.299531\" style=\"fill: #4c72b0; stroke: #333333\"/>\n     <use xlink:href=\"#m59d0a7e442\" x=\"113.157073\" y=\"175.108704\" style=\"fill: #4c72b0; stroke: #333333\"/>\n     <use xlink:href=\"#m59d0a7e442\" x=\"244.135253\" y=\"70.105937\" style=\"fill: #4c72b0; stroke: #333333\"/>\n     <use xlink:href=\"#m59d0a7e442\" x=\"236.967251\" y=\"85.910572\" style=\"fill: #4c72b0; stroke: #333333\"/>\n     <use xlink:href=\"#m59d0a7e442\" x=\"235.703551\" y=\"66.025246\" style=\"fill: #4c72b0; stroke: #333333\"/>\n     <use xlink:href=\"#m59d0a7e442\" x=\"117.521496\" y=\"179.02908\" style=\"fill: #4c72b0; stroke: #333333\"/>\n     <use xlink:href=\"#m59d0a7e442\" x=\"127.246298\" y=\"199.381179\" style=\"fill: #4c72b0; stroke: #333333\"/>\n     <use xlink:href=\"#m59d0a7e442\" x=\"140.967126\" y=\"197.416575\" style=\"fill: #4c72b0; stroke: #333333\"/>\n     <use xlink:href=\"#m59d0a7e442\" x=\"121.841855\" y=\"192.641004\" style=\"fill: #4c72b0; stroke: #333333\"/>\n     <use xlink:href=\"#m59d0a7e442\" x=\"133.398751\" y=\"192.278562\" style=\"fill: #4c72b0; stroke: #333333\"/>\n     <use xlink:href=\"#m59d0a7e442\" x=\"133.247833\" y=\"188.687474\" style=\"fill: #4c72b0; stroke: #333333\"/>\n     <use xlink:href=\"#m59d0a7e442\" x=\"134.006255\" y=\"201.390996\" style=\"fill: #4c72b0; stroke: #333333\"/>\n     <use xlink:href=\"#m59d0a7e442\" x=\"214.714522\" y=\"62.752964\" style=\"fill: #4c72b0; stroke: #333333\"/>\n     <use xlink:href=\"#m59d0a7e442\" x=\"246.279147\" y=\"82.822342\" style=\"fill: #4c72b0; stroke: #333333\"/>\n     <use xlink:href=\"#m59d0a7e442\" x=\"237.379861\" y=\"69.472825\" style=\"fill: #4c72b0; stroke: #333333\"/>\n     <use xlink:href=\"#m59d0a7e442\" x=\"126.861419\" y=\"204.109162\" style=\"fill: #4c72b0; stroke: #333333\"/>\n     <use xlink:href=\"#m59d0a7e442\" x=\"221.728046\" y=\"102.492744\" style=\"fill: #4c72b0; stroke: #333333\"/>\n     <use xlink:href=\"#m59d0a7e442\" x=\"240.410415\" y=\"76.537965\" style=\"fill: #4c72b0; stroke: #333333\"/>\n     <use xlink:href=\"#m59d0a7e442\" x=\"121.972053\" y=\"201.322981\" style=\"fill: #4c72b0; stroke: #333333\"/>\n     <use xlink:href=\"#m59d0a7e442\" x=\"132.124871\" y=\"205.781717\" style=\"fill: #4c72b0; stroke: #333333\"/>\n     <use xlink:href=\"#m59d0a7e442\" x=\"139.055421\" y=\"173.128814\" style=\"fill: #4c72b0; stroke: #333333\"/>\n     <use xlink:href=\"#m59d0a7e442\" x=\"225.48082\" y=\"67.121118\" style=\"fill: #4c72b0; stroke: #333333\"/>\n     <use xlink:href=\"#m59d0a7e442\" x=\"217.260209\" y=\"66.559184\" style=\"fill: #4c72b0; stroke: #333333\"/>\n     <use xlink:href=\"#m59d0a7e442\" x=\"115.986665\" y=\"196.251498\" style=\"fill: #4c72b0; stroke: #333333\"/>\n     <use xlink:href=\"#m59d0a7e442\" x=\"228.075757\" y=\"85.93973\" style=\"fill: #4c72b0; stroke: #333333\"/>\n     <use xlink:href=\"#m59d0a7e442\" x=\"122.558944\" y=\"192.411682\" style=\"fill: #4c72b0; stroke: #333333\"/>\n     <use xlink:href=\"#m59d0a7e442\" x=\"234.401995\" y=\"84.755563\" style=\"fill: #4c72b0; stroke: #333333\"/>\n     <use xlink:href=\"#m59d0a7e442\" x=\"119.78065\" y=\"182.552864\" style=\"fill: #4c72b0; stroke: #333333\"/>\n     <use xlink:href=\"#m59d0a7e442\" x=\"225.6954\" y=\"92.438423\" style=\"fill: #4c72b0; stroke: #333333\"/>\n     <use xlink:href=\"#m59d0a7e442\" x=\"234.890622\" y=\"69.031492\" style=\"fill: #4c72b0; stroke: #333333\"/>\n     <use xlink:href=\"#m59d0a7e442\" x=\"100.449963\" y=\"184.038091\" style=\"fill: #4c72b0; stroke: #333333\"/>\n     <use xlink:href=\"#m59d0a7e442\" x=\"217.161609\" y=\"68.839158\" style=\"fill: #4c72b0; stroke: #333333\"/>\n     <use xlink:href=\"#m59d0a7e442\" x=\"241.429583\" y=\"83.633705\" style=\"fill: #4c72b0; stroke: #333333\"/>\n     <use xlink:href=\"#m59d0a7e442\" x=\"110.008365\" y=\"189.029698\" style=\"fill: #4c72b0; stroke: #333333\"/>\n     <use xlink:href=\"#m59d0a7e442\" x=\"119.335514\" y=\"215.578994\" style=\"fill: #4c72b0; stroke: #333333\"/>\n     <use xlink:href=\"#m59d0a7e442\" x=\"116.798536\" y=\"176.400808\" style=\"fill: #4c72b0; stroke: #333333\"/>\n     <use xlink:href=\"#m59d0a7e442\" x=\"104.399768\" y=\"191.587679\" style=\"fill: #4c72b0; stroke: #333333\"/>\n     <use xlink:href=\"#m59d0a7e442\" x=\"238.516365\" y=\"81.669957\" style=\"fill: #4c72b0; stroke: #333333\"/>\n     <use xlink:href=\"#m59d0a7e442\" x=\"225.688626\" y=\"90.176102\" style=\"fill: #4c72b0; stroke: #333333\"/>\n     <use xlink:href=\"#m59d0a7e442\" x=\"226.080313\" y=\"94.020661\" style=\"fill: #4c72b0; stroke: #333333\"/>\n     <use xlink:href=\"#m59d0a7e442\" x=\"104.850809\" y=\"179.790426\" style=\"fill: #4c72b0; stroke: #333333\"/>\n     <use xlink:href=\"#m59d0a7e442\" x=\"234.678725\" y=\"97.140489\" style=\"fill: #4c72b0; stroke: #333333\"/>\n     <use xlink:href=\"#m59d0a7e442\" x=\"242.932977\" y=\"102.94976\" style=\"fill: #4c72b0; stroke: #333333\"/>\n     <use xlink:href=\"#m59d0a7e442\" x=\"138.343419\" y=\"206.284387\" style=\"fill: #4c72b0; stroke: #333333\"/>\n     <use xlink:href=\"#m59d0a7e442\" x=\"132.51058\" y=\"185.880852\" style=\"fill: #4c72b0; stroke: #333333\"/>\n     <use xlink:href=\"#m59d0a7e442\" x=\"119.615426\" y=\"183.56805\" style=\"fill: #4c72b0; stroke: #333333\"/>\n     <use xlink:href=\"#m59d0a7e442\" x=\"124.102881\" y=\"174.836383\" style=\"fill: #4c72b0; stroke: #333333\"/>\n     <use xlink:href=\"#m59d0a7e442\" x=\"229.809876\" y=\"73.381828\" style=\"fill: #4c72b0; stroke: #333333\"/>\n     <use xlink:href=\"#m59d0a7e442\" x=\"225.144682\" y=\"101.73884\" style=\"fill: #4c72b0; stroke: #333333\"/>\n     <use xlink:href=\"#m59d0a7e442\" x=\"130.725135\" y=\"188.237209\" style=\"fill: #4c72b0; stroke: #333333\"/>\n     <use xlink:href=\"#m59d0a7e442\" x=\"129.23293\" y=\"181.018964\" style=\"fill: #4c72b0; stroke: #333333\"/>\n     <use xlink:href=\"#m59d0a7e442\" x=\"124.393427\" y=\"192.171805\" style=\"fill: #4c72b0; stroke: #333333\"/>\n     <use xlink:href=\"#m59d0a7e442\" x=\"234.942436\" y=\"61.12244\" style=\"fill: #4c72b0; stroke: #333333\"/>\n     <use xlink:href=\"#m59d0a7e442\" x=\"234.214961\" y=\"59.647478\" style=\"fill: #4c72b0; stroke: #333333\"/>\n     <use xlink:href=\"#m59d0a7e442\" x=\"121.241516\" y=\"198.094838\" style=\"fill: #4c72b0; stroke: #333333\"/>\n     <use xlink:href=\"#m59d0a7e442\" x=\"243.57965\" y=\"61.2117\" style=\"fill: #4c72b0; stroke: #333333\"/>\n     <use xlink:href=\"#m59d0a7e442\" x=\"229.452153\" y=\"89.063668\" style=\"fill: #4c72b0; stroke: #333333\"/>\n     <use xlink:href=\"#m59d0a7e442\" x=\"242.114893\" y=\"57.89601\" style=\"fill: #4c72b0; stroke: #333333\"/>\n     <use xlink:href=\"#m59d0a7e442\" x=\"140.584583\" y=\"190.211887\" style=\"fill: #4c72b0; stroke: #333333\"/>\n     <use xlink:href=\"#m59d0a7e442\" x=\"230.97994\" y=\"69.480465\" style=\"fill: #4c72b0; stroke: #333333\"/>\n     <use xlink:href=\"#m59d0a7e442\" x=\"126.485281\" y=\"184.110318\" style=\"fill: #4c72b0; stroke: #333333\"/>\n     <use xlink:href=\"#m59d0a7e442\" x=\"129.879514\" y=\"195.044299\" style=\"fill: #4c72b0; stroke: #333333\"/>\n     <use xlink:href=\"#m59d0a7e442\" x=\"113.832919\" y=\"184.526148\" style=\"fill: #4c72b0; stroke: #333333\"/>\n     <use xlink:href=\"#m59d0a7e442\" x=\"220.75251\" y=\"58.917888\" style=\"fill: #4c72b0; stroke: #333333\"/>\n     <use xlink:href=\"#m59d0a7e442\" x=\"223.703485\" y=\"69.35652\" style=\"fill: #4c72b0; stroke: #333333\"/>\n     <use xlink:href=\"#m59d0a7e442\" x=\"205.696671\" y=\"66.827799\" style=\"fill: #4c72b0; stroke: #333333\"/>\n     <use xlink:href=\"#m59d0a7e442\" x=\"113.237155\" y=\"184.781798\" style=\"fill: #4c72b0; stroke: #333333\"/>\n     <use xlink:href=\"#m59d0a7e442\" x=\"112.005763\" y=\"194.341843\" style=\"fill: #4c72b0; stroke: #333333\"/>\n     <use xlink:href=\"#m59d0a7e442\" x=\"117.070475\" y=\"199.468055\" style=\"fill: #4c72b0; stroke: #333333\"/>\n     <use xlink:href=\"#m59d0a7e442\" x=\"224.282192\" y=\"103.788253\" style=\"fill: #4c72b0; stroke: #333333\"/>\n     <use xlink:href=\"#m59d0a7e442\" x=\"125.312649\" y=\"187.808871\" style=\"fill: #4c72b0; stroke: #333333\"/>\n     <use xlink:href=\"#m59d0a7e442\" x=\"119.571366\" y=\"182.8646\" style=\"fill: #4c72b0; stroke: #333333\"/>\n     <use xlink:href=\"#m59d0a7e442\" x=\"116.359396\" y=\"197.482645\" style=\"fill: #4c72b0; stroke: #333333\"/>\n    </g>\n   </g>\n   <g id=\"PathCollection_2\">\n    <defs>\n     <path id=\"m0af6731dc3\" d=\"M 0 3 \nC 0.795609 3 1.55874 2.683901 2.12132 2.12132 \nC 2.683901 1.55874 3 0.795609 3 0 \nC 3 -0.795609 2.683901 -1.55874 2.12132 -2.12132 \nC 1.55874 -2.683901 0.795609 -3 0 -3 \nC -0.795609 -3 -1.55874 -2.683901 -2.12132 -2.12132 \nC -2.683901 -1.55874 -3 -0.795609 -3 0 \nC -3 0.795609 -2.683901 1.55874 -2.12132 2.12132 \nC -1.55874 2.683901 -0.795609 3 0 3 \nz\n\" style=\"stroke: #333333\"/>\n    </defs>\n    <g clip-path=\"url(#p2b54b905aa)\">\n     <use xlink:href=\"#m0af6731dc3\" x=\"104.269625\" y=\"80.196727\" style=\"fill: #dd8452; stroke: #333333\"/>\n     <use xlink:href=\"#m0af6731dc3\" x=\"237.769552\" y=\"202.86498\" style=\"fill: #dd8452; stroke: #333333\"/>\n     <use xlink:href=\"#m0af6731dc3\" x=\"235.059904\" y=\"188.930172\" style=\"fill: #dd8452; stroke: #333333\"/>\n     <use xlink:href=\"#m0af6731dc3\" x=\"238.631678\" y=\"176.467229\" style=\"fill: #dd8452; stroke: #333333\"/>\n     <use xlink:href=\"#m0af6731dc3\" x=\"229.178515\" y=\"190.72399\" style=\"fill: #dd8452; stroke: #333333\"/>\n     <use xlink:href=\"#m0af6731dc3\" x=\"115.44737\" y=\"67.389997\" style=\"fill: #dd8452; stroke: #333333\"/>\n     <use xlink:href=\"#m0af6731dc3\" x=\"236.475901\" y=\"183.774713\" style=\"fill: #dd8452; stroke: #333333\"/>\n     <use xlink:href=\"#m0af6731dc3\" x=\"123.964196\" y=\"81.977829\" style=\"fill: #dd8452; stroke: #333333\"/>\n     <use xlink:href=\"#m0af6731dc3\" x=\"219.461767\" y=\"200.698784\" style=\"fill: #dd8452; stroke: #333333\"/>\n     <use xlink:href=\"#m0af6731dc3\" x=\"148.104666\" y=\"78.801317\" style=\"fill: #dd8452; stroke: #333333\"/>\n     <use xlink:href=\"#m0af6731dc3\" x=\"241.584365\" y=\"205.395483\" style=\"fill: #dd8452; stroke: #333333\"/>\n     <use xlink:href=\"#m0af6731dc3\" x=\"231.701751\" y=\"193.692073\" style=\"fill: #dd8452; stroke: #333333\"/>\n     <use xlink:href=\"#m0af6731dc3\" x=\"227.49163\" y=\"169.907623\" style=\"fill: #dd8452; stroke: #333333\"/>\n     <use xlink:href=\"#m0af6731dc3\" x=\"110.447694\" y=\"72.414461\" style=\"fill: #dd8452; stroke: #333333\"/>\n     <use xlink:href=\"#m0af6731dc3\" x=\"136.902612\" y=\"67.502468\" style=\"fill: #dd8452; stroke: #333333\"/>\n     <use xlink:href=\"#m0af6731dc3\" x=\"120.828227\" y=\"92.374058\" style=\"fill: #dd8452; stroke: #333333\"/>\n     <use xlink:href=\"#m0af6731dc3\" x=\"109.590963\" y=\"80.873551\" style=\"fill: #dd8452; stroke: #333333\"/>\n     <use xlink:href=\"#m0af6731dc3\" x=\"104.225536\" y=\"62.279233\" style=\"fill: #dd8452; stroke: #333333\"/>\n     <use xlink:href=\"#m0af6731dc3\" x=\"230.701339\" y=\"192.99315\" style=\"fill: #dd8452; stroke: #333333\"/>\n     <use xlink:href=\"#m0af6731dc3\" x=\"216.600502\" y=\"176.132059\" style=\"fill: #dd8452; stroke: #333333\"/>\n     <use xlink:href=\"#m0af6731dc3\" x=\"224.324926\" y=\"177.791622\" style=\"fill: #dd8452; stroke: #333333\"/>\n     <use xlink:href=\"#m0af6731dc3\" x=\"113.018111\" y=\"75.815579\" style=\"fill: #dd8452; stroke: #333333\"/>\n     <use xlink:href=\"#m0af6731dc3\" x=\"213.389749\" y=\"185.273851\" style=\"fill: #dd8452; stroke: #333333\"/>\n     <use xlink:href=\"#m0af6731dc3\" x=\"227.854006\" y=\"199.628281\" style=\"fill: #dd8452; stroke: #333333\"/>\n     <use xlink:href=\"#m0af6731dc3\" x=\"227.109295\" y=\"174.952293\" style=\"fill: #dd8452; stroke: #333333\"/>\n     <use xlink:href=\"#m0af6731dc3\" x=\"222.190614\" y=\"193.281157\" style=\"fill: #dd8452; stroke: #333333\"/>\n     <use xlink:href=\"#m0af6731dc3\" x=\"247.250982\" y=\"172.669489\" style=\"fill: #dd8452; stroke: #333333\"/>\n     <use xlink:href=\"#m0af6731dc3\" x=\"110.214786\" y=\"87.297013\" style=\"fill: #dd8452; stroke: #333333\"/>\n     <use xlink:href=\"#m0af6731dc3\" x=\"244.93228\" y=\"175.02622\" style=\"fill: #dd8452; stroke: #333333\"/>\n     <use xlink:href=\"#m0af6731dc3\" x=\"132.293045\" y=\"75.206008\" style=\"fill: #dd8452; stroke: #333333\"/>\n     <use xlink:href=\"#m0af6731dc3\" x=\"245.227714\" y=\"196.596251\" style=\"fill: #dd8452; stroke: #333333\"/>\n     <use xlink:href=\"#m0af6731dc3\" x=\"98.461351\" y=\"76.692403\" style=\"fill: #dd8452; stroke: #333333\"/>\n     <use xlink:href=\"#m0af6731dc3\" x=\"144.110037\" y=\"74.246743\" style=\"fill: #dd8452; stroke: #333333\"/>\n     <use xlink:href=\"#m0af6731dc3\" x=\"222.284395\" y=\"198.548117\" style=\"fill: #dd8452; stroke: #333333\"/>\n     <use xlink:href=\"#m0af6731dc3\" x=\"215.531297\" y=\"178.033399\" style=\"fill: #dd8452; stroke: #333333\"/>\n     <use xlink:href=\"#m0af6731dc3\" x=\"123.808483\" y=\"79.654878\" style=\"fill: #dd8452; stroke: #333333\"/>\n     <use xlink:href=\"#m0af6731dc3\" x=\"224.435573\" y=\"182.690366\" style=\"fill: #dd8452; stroke: #333333\"/>\n     <use xlink:href=\"#m0af6731dc3\" x=\"124.269322\" y=\"85.978545\" style=\"fill: #dd8452; stroke: #333333\"/>\n     <use xlink:href=\"#m0af6731dc3\" x=\"121.79428\" y=\"88.187855\" style=\"fill: #dd8452; stroke: #333333\"/>\n     <use xlink:href=\"#m0af6731dc3\" x=\"252.540241\" y=\"199.098321\" style=\"fill: #dd8452; stroke: #333333\"/>\n     <use xlink:href=\"#m0af6731dc3\" x=\"247.271774\" y=\"188.896818\" style=\"fill: #dd8452; stroke: #333333\"/>\n     <use xlink:href=\"#m0af6731dc3\" x=\"111.199094\" y=\"75.770625\" style=\"fill: #dd8452; stroke: #333333\"/>\n     <use xlink:href=\"#m0af6731dc3\" x=\"135.398824\" y=\"77.42157\" style=\"fill: #dd8452; stroke: #333333\"/>\n     <use xlink:href=\"#m0af6731dc3\" x=\"138.144886\" y=\"63.284893\" style=\"fill: #dd8452; stroke: #333333\"/>\n     <use xlink:href=\"#m0af6731dc3\" x=\"239.022493\" y=\"196.664997\" style=\"fill: #dd8452; stroke: #333333\"/>\n     <use xlink:href=\"#m0af6731dc3\" x=\"111.603121\" y=\"79.111389\" style=\"fill: #dd8452; stroke: #333333\"/>\n     <use xlink:href=\"#m0af6731dc3\" x=\"252.575348\" y=\"193.993399\" style=\"fill: #dd8452; stroke: #333333\"/>\n     <use xlink:href=\"#m0af6731dc3\" x=\"123.53687\" y=\"89.971152\" style=\"fill: #dd8452; stroke: #333333\"/>\n     <use xlink:href=\"#m0af6731dc3\" x=\"135.305448\" y=\"96.95557\" style=\"fill: #dd8452; stroke: #333333\"/>\n     <use xlink:href=\"#m0af6731dc3\" x=\"128.985326\" y=\"73.963391\" style=\"fill: #dd8452; stroke: #333333\"/>\n     <use xlink:href=\"#m0af6731dc3\" x=\"219.811949\" y=\"180.459621\" style=\"fill: #dd8452; stroke: #333333\"/>\n     <use xlink:href=\"#m0af6731dc3\" x=\"111.598072\" y=\"93.187199\" style=\"fill: #dd8452; stroke: #333333\"/>\n     <use xlink:href=\"#m0af6731dc3\" x=\"125.698391\" y=\"80.132302\" style=\"fill: #dd8452; stroke: #333333\"/>\n     <use xlink:href=\"#m0af6731dc3\" x=\"213.191149\" y=\"177.286919\" style=\"fill: #dd8452; stroke: #333333\"/>\n     <use xlink:href=\"#m0af6731dc3\" x=\"228.924876\" y=\"187.839126\" style=\"fill: #dd8452; stroke: #333333\"/>\n     <use xlink:href=\"#m0af6731dc3\" x=\"125.979114\" y=\"70.023352\" style=\"fill: #dd8452; stroke: #333333\"/>\n     <use xlink:href=\"#m0af6731dc3\" x=\"122.699679\" y=\"56.235812\" style=\"fill: #dd8452; stroke: #333333\"/>\n     <use xlink:href=\"#m0af6731dc3\" x=\"218.705913\" y=\"187.65421\" style=\"fill: #dd8452; stroke: #333333\"/>\n     <use xlink:href=\"#m0af6731dc3\" x=\"211.907788\" y=\"189.820486\" style=\"fill: #dd8452; stroke: #333333\"/>\n     <use xlink:href=\"#m0af6731dc3\" x=\"123.74426\" y=\"70.367031\" style=\"fill: #dd8452; stroke: #333333\"/>\n     <use xlink:href=\"#m0af6731dc3\" x=\"93.51186\" y=\"86.786094\" style=\"fill: #dd8452; stroke: #333333\"/>\n     <use xlink:href=\"#m0af6731dc3\" x=\"117.116578\" y=\"93.155925\" style=\"fill: #dd8452; stroke: #333333\"/>\n     <use xlink:href=\"#m0af6731dc3\" x=\"131.225025\" y=\"72.790696\" style=\"fill: #dd8452; stroke: #333333\"/>\n     <use xlink:href=\"#m0af6731dc3\" x=\"113.67349\" y=\"81.712552\" style=\"fill: #dd8452; stroke: #333333\"/>\n     <use xlink:href=\"#m0af6731dc3\" x=\"118.875374\" y=\"75.724587\" style=\"fill: #dd8452; stroke: #333333\"/>\n     <use xlink:href=\"#m0af6731dc3\" x=\"131.728733\" y=\"85.759312\" style=\"fill: #dd8452; stroke: #333333\"/>\n     <use xlink:href=\"#m0af6731dc3\" x=\"249.404288\" y=\"193.443387\" style=\"fill: #dd8452; stroke: #333333\"/>\n     <use xlink:href=\"#m0af6731dc3\" x=\"107.465957\" y=\"62.935834\" style=\"fill: #dd8452; stroke: #333333\"/>\n     <use xlink:href=\"#m0af6731dc3\" x=\"229.773163\" y=\"184.242418\" style=\"fill: #dd8452; stroke: #333333\"/>\n     <use xlink:href=\"#m0af6731dc3\" x=\"239.388497\" y=\"168.981782\" style=\"fill: #dd8452; stroke: #333333\"/>\n     <use xlink:href=\"#m0af6731dc3\" x=\"215.154884\" y=\"200.658088\" style=\"fill: #dd8452; stroke: #333333\"/>\n     <use xlink:href=\"#m0af6731dc3\" x=\"226.747871\" y=\"190.383321\" style=\"fill: #dd8452; stroke: #333333\"/>\n     <use xlink:href=\"#m0af6731dc3\" x=\"122.24279\" y=\"64.140251\" style=\"fill: #dd8452; stroke: #333333\"/>\n     <use xlink:href=\"#m0af6731dc3\" x=\"220.444374\" y=\"174.680621\" style=\"fill: #dd8452; stroke: #333333\"/>\n     <use xlink:href=\"#m0af6731dc3\" x=\"209.805979\" y=\"163.487024\" style=\"fill: #dd8452; stroke: #333333\"/>\n     <use xlink:href=\"#m0af6731dc3\" x=\"111.242539\" y=\"68.777496\" style=\"fill: #dd8452; stroke: #333333\"/>\n     <use xlink:href=\"#m0af6731dc3\" x=\"130.295513\" y=\"79.00059\" style=\"fill: #dd8452; stroke: #333333\"/>\n     <use xlink:href=\"#m0af6731dc3\" x=\"241.175785\" y=\"178.965372\" style=\"fill: #dd8452; stroke: #333333\"/>\n     <use xlink:href=\"#m0af6731dc3\" x=\"117.2682\" y=\"72.215254\" style=\"fill: #dd8452; stroke: #333333\"/>\n     <use xlink:href=\"#m0af6731dc3\" x=\"126.822551\" y=\"80.391407\" style=\"fill: #dd8452; stroke: #333333\"/>\n     <use xlink:href=\"#m0af6731dc3\" x=\"125.543048\" y=\"82.992602\" style=\"fill: #dd8452; stroke: #333333\"/>\n     <use xlink:href=\"#m0af6731dc3\" x=\"227.987349\" y=\"173.243968\" style=\"fill: #dd8452; stroke: #333333\"/>\n     <use xlink:href=\"#m0af6731dc3\" x=\"234.348793\" y=\"165.836867\" style=\"fill: #dd8452; stroke: #333333\"/>\n     <use xlink:href=\"#m0af6731dc3\" x=\"223.792481\" y=\"195.005818\" style=\"fill: #dd8452; stroke: #333333\"/>\n     <use xlink:href=\"#m0af6731dc3\" x=\"151.47009\" y=\"78.564901\" style=\"fill: #dd8452; stroke: #333333\"/>\n     <use xlink:href=\"#m0af6731dc3\" x=\"240.291916\" y=\"209.858056\" style=\"fill: #dd8452; stroke: #333333\"/>\n     <use xlink:href=\"#m0af6731dc3\" x=\"255.717289\" y=\"201.72411\" style=\"fill: #dd8452; stroke: #333333\"/>\n     <use xlink:href=\"#m0af6731dc3\" x=\"225.0395\" y=\"199.287585\" style=\"fill: #dd8452; stroke: #333333\"/>\n     <use xlink:href=\"#m0af6731dc3\" x=\"114.415033\" y=\"86.997317\" style=\"fill: #dd8452; stroke: #333333\"/>\n     <use xlink:href=\"#m0af6731dc3\" x=\"112.612911\" y=\"78.562297\" style=\"fill: #dd8452; stroke: #333333\"/>\n     <use xlink:href=\"#m0af6731dc3\" x=\"243.321068\" y=\"201.596164\" style=\"fill: #dd8452; stroke: #333333\"/>\n     <use xlink:href=\"#m0af6731dc3\" x=\"132.290178\" y=\"97.744118\" style=\"fill: #dd8452; stroke: #333333\"/>\n     <use xlink:href=\"#m0af6731dc3\" x=\"101.699867\" y=\"80.559539\" style=\"fill: #dd8452; stroke: #333333\"/>\n     <use xlink:href=\"#m0af6731dc3\" x=\"136.696095\" y=\"69.979336\" style=\"fill: #dd8452; stroke: #333333\"/>\n     <use xlink:href=\"#m0af6731dc3\" x=\"115.350048\" y=\"72.369137\" style=\"fill: #dd8452; stroke: #333333\"/>\n     <use xlink:href=\"#m0af6731dc3\" x=\"235.336423\" y=\"201.910468\" style=\"fill: #dd8452; stroke: #333333\"/>\n     <use xlink:href=\"#m0af6731dc3\" x=\"211.04584\" y=\"185.119865\" style=\"fill: #dd8452; stroke: #333333\"/>\n    </g>\n   </g>\n   <g id=\"patch_3\">\n    <path d=\"M 66.023594 244.078125 \nL 66.023594 22.318125 \n\" style=\"fill: none; stroke: #ffffff; stroke-width: 1.25; stroke-linejoin: miter; stroke-linecap: square\"/>\n   </g>\n   <g id=\"patch_4\">\n    <path d=\"M 287.783594 244.078125 \nL 287.783594 22.318125 \n\" style=\"fill: none; stroke: #ffffff; stroke-width: 1.25; stroke-linejoin: miter; stroke-linecap: square\"/>\n   </g>\n   <g id=\"patch_5\">\n    <path d=\"M 66.023594 244.078125 \nL 287.783594 244.078125 \n\" style=\"fill: none; stroke: #ffffff; stroke-width: 1.25; stroke-linejoin: miter; stroke-linecap: square\"/>\n   </g>\n   <g id=\"patch_6\">\n    <path d=\"M 66.023594 22.318125 \nL 287.783594 22.318125 \n\" style=\"fill: none; stroke: #ffffff; stroke-width: 1.25; stroke-linejoin: miter; stroke-linecap: square\"/>\n   </g>\n   <g id=\"text_17\">\n    <!-- Dataset samples -->\n    <g style=\"fill: #262626\" transform=\"translate(126.560781 16.318125) scale(0.12 -0.12)\">\n     <defs>\n      <path id=\"DejaVuSans-44\" d=\"M 1259 4147 \nL 1259 519 \nL 2022 519 \nQ 2988 519 3436 956 \nQ 3884 1394 3884 2338 \nQ 3884 3275 3436 3711 \nQ 2988 4147 2022 4147 \nL 1259 4147 \nz\nM 628 4666 \nL 1925 4666 \nQ 3281 4666 3915 4102 \nQ 4550 3538 4550 2338 \nQ 4550 1131 3912 565 \nQ 3275 0 1925 0 \nL 628 0 \nL 628 4666 \nz\n\" transform=\"scale(0.015625)\"/>\n      <path id=\"DejaVuSans-61\" d=\"M 2194 1759 \nQ 1497 1759 1228 1600 \nQ 959 1441 959 1056 \nQ 959 750 1161 570 \nQ 1363 391 1709 391 \nQ 2188 391 2477 730 \nQ 2766 1069 2766 1631 \nL 2766 1759 \nL 2194 1759 \nz\nM 3341 1997 \nL 3341 0 \nL 2766 0 \nL 2766 531 \nQ 2569 213 2275 61 \nQ 1981 -91 1556 -91 \nQ 1019 -91 701 211 \nQ 384 513 384 1019 \nQ 384 1609 779 1909 \nQ 1175 2209 1959 2209 \nL 2766 2209 \nL 2766 2266 \nQ 2766 2663 2505 2880 \nQ 2244 3097 1772 3097 \nQ 1472 3097 1187 3025 \nQ 903 2953 641 2809 \nL 641 3341 \nQ 956 3463 1253 3523 \nQ 1550 3584 1831 3584 \nQ 2591 3584 2966 3190 \nQ 3341 2797 3341 1997 \nz\n\" transform=\"scale(0.015625)\"/>\n      <path id=\"DejaVuSans-74\" d=\"M 1172 4494 \nL 1172 3500 \nL 2356 3500 \nL 2356 3053 \nL 1172 3053 \nL 1172 1153 \nQ 1172 725 1289 603 \nQ 1406 481 1766 481 \nL 2356 481 \nL 2356 0 \nL 1766 0 \nQ 1100 0 847 248 \nQ 594 497 594 1153 \nL 594 3053 \nL 172 3053 \nL 172 3500 \nL 594 3500 \nL 594 4494 \nL 1172 4494 \nz\n\" transform=\"scale(0.015625)\"/>\n      <path id=\"DejaVuSans-73\" d=\"M 2834 3397 \nL 2834 2853 \nQ 2591 2978 2328 3040 \nQ 2066 3103 1784 3103 \nQ 1356 3103 1142 2972 \nQ 928 2841 928 2578 \nQ 928 2378 1081 2264 \nQ 1234 2150 1697 2047 \nL 1894 2003 \nQ 2506 1872 2764 1633 \nQ 3022 1394 3022 966 \nQ 3022 478 2636 193 \nQ 2250 -91 1575 -91 \nQ 1294 -91 989 -36 \nQ 684 19 347 128 \nL 347 722 \nQ 666 556 975 473 \nQ 1284 391 1588 391 \nQ 1994 391 2212 530 \nQ 2431 669 2431 922 \nQ 2431 1156 2273 1281 \nQ 2116 1406 1581 1522 \nL 1381 1569 \nQ 847 1681 609 1914 \nQ 372 2147 372 2553 \nQ 372 3047 722 3315 \nQ 1072 3584 1716 3584 \nQ 2034 3584 2315 3537 \nQ 2597 3491 2834 3397 \nz\n\" transform=\"scale(0.015625)\"/>\n      <path id=\"DejaVuSans-65\" d=\"M 3597 1894 \nL 3597 1613 \nL 953 1613 \nQ 991 1019 1311 708 \nQ 1631 397 2203 397 \nQ 2534 397 2845 478 \nQ 3156 559 3463 722 \nL 3463 178 \nQ 3153 47 2828 -22 \nQ 2503 -91 2169 -91 \nQ 1331 -91 842 396 \nQ 353 884 353 1716 \nQ 353 2575 817 3079 \nQ 1281 3584 2069 3584 \nQ 2775 3584 3186 3129 \nQ 3597 2675 3597 1894 \nz\nM 3022 2063 \nQ 3016 2534 2758 2815 \nQ 2500 3097 2075 3097 \nQ 1594 3097 1305 2825 \nQ 1016 2553 972 2059 \nL 3022 2063 \nz\n\" transform=\"scale(0.015625)\"/>\n      <path id=\"DejaVuSans-20\" transform=\"scale(0.015625)\"/>\n      <path id=\"DejaVuSans-6d\" d=\"M 3328 2828 \nQ 3544 3216 3844 3400 \nQ 4144 3584 4550 3584 \nQ 5097 3584 5394 3201 \nQ 5691 2819 5691 2113 \nL 5691 0 \nL 5113 0 \nL 5113 2094 \nQ 5113 2597 4934 2840 \nQ 4756 3084 4391 3084 \nQ 3944 3084 3684 2787 \nQ 3425 2491 3425 1978 \nL 3425 0 \nL 2847 0 \nL 2847 2094 \nQ 2847 2600 2669 2842 \nQ 2491 3084 2119 3084 \nQ 1678 3084 1418 2786 \nQ 1159 2488 1159 1978 \nL 1159 0 \nL 581 0 \nL 581 3500 \nL 1159 3500 \nL 1159 2956 \nQ 1356 3278 1631 3431 \nQ 1906 3584 2284 3584 \nQ 2666 3584 2933 3390 \nQ 3200 3197 3328 2828 \nz\n\" transform=\"scale(0.015625)\"/>\n      <path id=\"DejaVuSans-70\" d=\"M 1159 525 \nL 1159 -1331 \nL 581 -1331 \nL 581 3500 \nL 1159 3500 \nL 1159 2969 \nQ 1341 3281 1617 3432 \nQ 1894 3584 2278 3584 \nQ 2916 3584 3314 3078 \nQ 3713 2572 3713 1747 \nQ 3713 922 3314 415 \nQ 2916 -91 2278 -91 \nQ 1894 -91 1617 61 \nQ 1341 213 1159 525 \nz\nM 3116 1747 \nQ 3116 2381 2855 2742 \nQ 2594 3103 2138 3103 \nQ 1681 3103 1420 2742 \nQ 1159 2381 1159 1747 \nQ 1159 1113 1420 752 \nQ 1681 391 2138 391 \nQ 2594 391 2855 752 \nQ 3116 1113 3116 1747 \nz\n\" transform=\"scale(0.015625)\"/>\n      <path id=\"DejaVuSans-6c\" d=\"M 603 4863 \nL 1178 4863 \nL 1178 0 \nL 603 0 \nL 603 4863 \nz\n\" transform=\"scale(0.015625)\"/>\n     </defs>\n     <use xlink:href=\"#DejaVuSans-44\"/>\n     <use xlink:href=\"#DejaVuSans-61\" transform=\"translate(77.001953 0)\"/>\n     <use xlink:href=\"#DejaVuSans-74\" transform=\"translate(138.28125 0)\"/>\n     <use xlink:href=\"#DejaVuSans-61\" transform=\"translate(177.490234 0)\"/>\n     <use xlink:href=\"#DejaVuSans-73\" transform=\"translate(238.769531 0)\"/>\n     <use xlink:href=\"#DejaVuSans-65\" transform=\"translate(290.869141 0)\"/>\n     <use xlink:href=\"#DejaVuSans-74\" transform=\"translate(352.392578 0)\"/>\n     <use xlink:href=\"#DejaVuSans-20\" transform=\"translate(391.601562 0)\"/>\n     <use xlink:href=\"#DejaVuSans-73\" transform=\"translate(423.388672 0)\"/>\n     <use xlink:href=\"#DejaVuSans-61\" transform=\"translate(475.488281 0)\"/>\n     <use xlink:href=\"#DejaVuSans-6d\" transform=\"translate(536.767578 0)\"/>\n     <use xlink:href=\"#DejaVuSans-70\" transform=\"translate(634.179688 0)\"/>\n     <use xlink:href=\"#DejaVuSans-6c\" transform=\"translate(697.65625 0)\"/>\n     <use xlink:href=\"#DejaVuSans-65\" transform=\"translate(725.439453 0)\"/>\n     <use xlink:href=\"#DejaVuSans-73\" transform=\"translate(786.962891 0)\"/>\n    </g>\n   </g>\n   <g id=\"legend_1\">\n    <g id=\"patch_7\">\n     <path d=\"M 205.450312 150.994063 \nL 280.083594 150.994063 \nQ 282.283594 150.994063 282.283594 148.794063 \nL 282.283594 117.602188 \nQ 282.283594 115.402188 280.083594 115.402188 \nL 205.450312 115.402188 \nQ 203.250313 115.402188 203.250313 117.602188 \nL 203.250313 148.794063 \nQ 203.250313 150.994063 205.450312 150.994063 \nz\n\" style=\"fill: #eaeaf2; opacity: 0.8; stroke: #cccccc; stroke-linejoin: miter\"/>\n    </g>\n    <g id=\"PathCollection_3\">\n     <g>\n      <use xlink:href=\"#m59d0a7e442\" x=\"218.650313\" y=\"125.272969\" style=\"fill: #4c72b0; stroke: #333333\"/>\n     </g>\n    </g>\n    <g id=\"text_18\">\n     <!-- Class 0 -->\n     <g style=\"fill: #262626\" transform=\"translate(238.450313 128.160469) scale(0.11 -0.11)\">\n      <defs>\n       <path id=\"DejaVuSans-43\" d=\"M 4122 4306 \nL 4122 3641 \nQ 3803 3938 3442 4084 \nQ 3081 4231 2675 4231 \nQ 1875 4231 1450 3742 \nQ 1025 3253 1025 2328 \nQ 1025 1406 1450 917 \nQ 1875 428 2675 428 \nQ 3081 428 3442 575 \nQ 3803 722 4122 1019 \nL 4122 359 \nQ 3791 134 3420 21 \nQ 3050 -91 2638 -91 \nQ 1578 -91 968 557 \nQ 359 1206 359 2328 \nQ 359 3453 968 4101 \nQ 1578 4750 2638 4750 \nQ 3056 4750 3426 4639 \nQ 3797 4528 4122 4306 \nz\n\" transform=\"scale(0.015625)\"/>\n      </defs>\n      <use xlink:href=\"#DejaVuSans-43\"/>\n      <use xlink:href=\"#DejaVuSans-6c\" transform=\"translate(69.824219 0)\"/>\n      <use xlink:href=\"#DejaVuSans-61\" transform=\"translate(97.607422 0)\"/>\n      <use xlink:href=\"#DejaVuSans-73\" transform=\"translate(158.886719 0)\"/>\n      <use xlink:href=\"#DejaVuSans-73\" transform=\"translate(210.986328 0)\"/>\n      <use xlink:href=\"#DejaVuSans-20\" transform=\"translate(263.085938 0)\"/>\n      <use xlink:href=\"#DejaVuSans-30\" transform=\"translate(294.873047 0)\"/>\n     </g>\n    </g>\n    <g id=\"PathCollection_4\">\n     <g>\n      <use xlink:href=\"#m0af6731dc3\" x=\"218.650313\" y=\"141.418906\" style=\"fill: #dd8452; stroke: #333333\"/>\n     </g>\n    </g>\n    <g id=\"text_19\">\n     <!-- Class 1 -->\n     <g style=\"fill: #262626\" transform=\"translate(238.450313 144.306406) scale(0.11 -0.11)\">\n      <use xlink:href=\"#DejaVuSans-43\"/>\n      <use xlink:href=\"#DejaVuSans-6c\" transform=\"translate(69.824219 0)\"/>\n      <use xlink:href=\"#DejaVuSans-61\" transform=\"translate(97.607422 0)\"/>\n      <use xlink:href=\"#DejaVuSans-73\" transform=\"translate(158.886719 0)\"/>\n      <use xlink:href=\"#DejaVuSans-73\" transform=\"translate(210.986328 0)\"/>\n      <use xlink:href=\"#DejaVuSans-20\" transform=\"translate(263.085938 0)\"/>\n      <use xlink:href=\"#DejaVuSans-31\" transform=\"translate(294.873047 0)\"/>\n     </g>\n    </g>\n   </g>\n  </g>\n </g>\n <defs>\n  <clipPath id=\"p2b54b905aa\">\n   <rect x=\"66.023594\" y=\"22.318125\" width=\"221.76\" height=\"221.76\"/>\n  </clipPath>\n </defs>\n</svg>\n",
            "application/pdf": "[encoded data removed]"
          },
          "metadata": {}
        }
      ]
    }
  ]
}